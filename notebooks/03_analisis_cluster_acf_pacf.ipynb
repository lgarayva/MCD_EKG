{
 "cells": [
  {
   "cell_type": "markdown",
   "metadata": {},
   "source": [
    "## <a id = '0'> Índice </a>\n",
    "\n",
    "* [**Entorno**](#1)  \n",
    "   * [Librerías](#1d1)  \n",
    "   * [Funciones](#1d2)  \n",
    "   * [Constantes](#1d3)\n",
    "\n",
    "* [**Lectura de datos**](#2)\n"
   ]
  },
  {
   "cell_type": "markdown",
   "metadata": {},
   "source": [
    "## <a id = '1'> Entorno </a>\n",
    "[índice](#0)"
   ]
  },
  {
   "cell_type": "markdown",
   "metadata": {},
   "source": [
    "### <a id = '1d1'> Librerías </a>"
   ]
  },
  {
   "cell_type": "code",
   "execution_count": 2,
   "metadata": {},
   "outputs": [],
   "source": [
    "import os\n",
    "import pandas as pd\n",
    "import numpy as np\n",
    "\n",
    "from statsmodels.tsa.stattools import acf, pacf\n",
    "from statsmodels.graphics.tsaplots import plot_acf, plot_pacf\n",
    "\n",
    "\n",
    "from statsmodels.tsa.stattools import adfuller\n",
    "from statsmodels.stats.diagnostic import acorr_ljungbox\n",
    "\n",
    "from statsmodels.tsa.arima.model import ARIMA\n",
    "\n",
    "from statsmodels.tsa.seasonal import seasonal_decompose\n",
    "from statsmodels.tsa.statespace.sarimax import SARIMAX\n",
    "\n",
    "import matplotlib.pyplot as plt\n",
    "\n",
    "import math\n",
    "import itertools"
   ]
  },
  {
   "cell_type": "code",
   "execution_count": 3,
   "metadata": {},
   "outputs": [],
   "source": [
    "os.chdir(\"../\")"
   ]
  },
  {
   "cell_type": "markdown",
   "metadata": {},
   "source": [
    "### <a id = '1d2'> Funciones </a>"
   ]
  },
  {
   "cell_type": "code",
   "execution_count": 4,
   "metadata": {},
   "outputs": [],
   "source": [
    "from src.utils import *"
   ]
  },
  {
   "cell_type": "markdown",
   "metadata": {},
   "source": [
    "### <a id = '1d3'> Constantes </a>"
   ]
  },
  {
   "cell_type": "code",
   "execution_count": 5,
   "metadata": {},
   "outputs": [],
   "source": [
    "from config.cons import data_folder, window_jason, cara_lateral, cara_anterior, cara_interior, cara_sepal, list_signals"
   ]
  },
  {
   "cell_type": "markdown",
   "metadata": {},
   "source": [
    "## <a id = '2'> Lectura de datos </a>\n",
    "[índice](#0)"
   ]
  },
  {
   "cell_type": "code",
   "execution_count": 6,
   "metadata": {},
   "outputs": [],
   "source": [
    "proyect_path = os.getcwd()\n",
    "data_path = proyect_path + data_folder"
   ]
  },
  {
   "cell_type": "code",
   "execution_count": 7,
   "metadata": {},
   "outputs": [],
   "source": [
    "lateral_combinaciones = list(itertools.combinations(cara_lateral, 2))\n",
    "anterior_combinaciones = list(itertools.combinations(cara_anterior, 2))\n",
    "interior_combinaciones = list(itertools.combinations(cara_interior, 2))\n",
    "sepal_combinaciones = list(itertools.combinations(cara_sepal, 2))"
   ]
  },
  {
   "cell_type": "code",
   "execution_count": 8,
   "metadata": {},
   "outputs": [],
   "source": [
    "df_all = lectura_carpetas_dict(data_path)"
   ]
  },
  {
   "cell_type": "code",
   "execution_count": 9,
   "metadata": {},
   "outputs": [],
   "source": [
    "df_mi = df_all[\"mi\"]\n",
    "df_sttc_mi = df_all[\"sttc_mi\"]\n",
    "df_sttc = df_all[\"sttc\"]\n",
    "df_other = df_all[\"other\"]"
   ]
  },
  {
   "cell_type": "code",
   "execution_count": 10,
   "metadata": {},
   "outputs": [],
   "source": [
    "#Lectura de windows\n",
    "import json\n",
    "with open(window_jason, \"r\") as file:\n",
    "    dict_data_jump = json.load(file)  "
   ]
  },
  {
   "cell_type": "code",
   "execution_count": 11,
   "metadata": {},
   "outputs": [],
   "source": [
    "df_mi_smooth_part = dict_apply_smooth(df_mi, list_signals, dict_window = dict_data_jump[\"MI\"])\n",
    "df_sttc_mi_smooth_part = dict_apply_smooth(df_sttc_mi, list_signals, dict_window = dict_data_jump['STTC MI'])\n",
    "df_sttc_smooth_part = dict_apply_smooth(df_sttc, list_signals, dict_window = dict_data_jump['STTC'])\n",
    "df_other_smooth_part = dict_apply_smooth(df_other, list_signals, dict_window = dict_data_jump['OTHER'])"
   ]
  },
  {
   "cell_type": "code",
   "execution_count": 12,
   "metadata": {},
   "outputs": [],
   "source": [
    "df_mi_acf_pacf = dict_to_dataframe(genera_df_acf_pacf(df_mi, list_signals, apply_diff= True))\n",
    "df_sttc_mi_acf_pacf = dict_to_dataframe(genera_df_acf_pacf(df_sttc_mi, list_signals, apply_diff= True)) \n",
    "df_sttc_acf_pacf = dict_to_dataframe(genera_df_acf_pacf(df_sttc, list_signals, apply_diff= True))\n",
    "df_other_acf_pacf = dict_to_dataframe(genera_df_acf_pacf(df_other, list_signals, apply_diff= True))"
   ]
  },
  {
   "cell_type": "code",
   "execution_count": 13,
   "metadata": {},
   "outputs": [],
   "source": [
    "df_mi_s_acf_pacf = dict_to_dataframe(genera_df_acf_pacf(df_mi_smooth_part, list_signals, apply_diff=True))\n",
    "df_sttc_mi_s_acf_pacf = dict_to_dataframe(genera_df_acf_pacf(df_sttc_mi_smooth_part, list_signals, apply_diff=True))\n",
    "df_sttc_s_acf_pacf = dict_to_dataframe(genera_df_acf_pacf(df_sttc_smooth_part, list_signals, apply_diff=True))\n",
    "df_other_s_acf_pacf = dict_to_dataframe(genera_df_acf_pacf(df_other_smooth_part, list_signals, apply_diff=True))"
   ]
  },
  {
   "cell_type": "code",
   "execution_count": 14,
   "metadata": {},
   "outputs": [],
   "source": [
    "df_acf_pacf = pd.concat([df_mi_acf_pacf,\n",
    "                        df_sttc_mi_acf_pacf,\n",
    "                        df_sttc_acf_pacf,\n",
    "                        df_other_acf_pacf], ignore_index=True)\n",
    "\n",
    "df_smooth_acf_pacf = pd.concat([df_mi_s_acf_pacf,\n",
    "                        df_sttc_mi_s_acf_pacf,\n",
    "                        df_sttc_s_acf_pacf,\n",
    "                        df_other_s_acf_pacf], ignore_index=True)"
   ]
  },
  {
   "cell_type": "code",
   "execution_count": 15,
   "metadata": {},
   "outputs": [
    {
     "data": {
      "text/html": [
       "<div>\n",
       "<style scoped>\n",
       "    .dataframe tbody tr th:only-of-type {\n",
       "        vertical-align: middle;\n",
       "    }\n",
       "\n",
       "    .dataframe tbody tr th {\n",
       "        vertical-align: top;\n",
       "    }\n",
       "\n",
       "    .dataframe thead th {\n",
       "        text-align: right;\n",
       "    }\n",
       "</style>\n",
       "<table border=\"1\" class=\"dataframe\">\n",
       "  <thead>\n",
       "    <tr style=\"text-align: right;\">\n",
       "      <th></th>\n",
       "      <th>acf_AVL_lag_1</th>\n",
       "      <th>acf_AVL_lag_2</th>\n",
       "      <th>acf_AVL_lag_3</th>\n",
       "      <th>acf_AVL_lag_4</th>\n",
       "      <th>acf_AVL_lag_5</th>\n",
       "      <th>pacf_AVL_lag_1</th>\n",
       "      <th>pacf_AVL_lag_2</th>\n",
       "      <th>pacf_AVL_lag_3</th>\n",
       "      <th>pacf_AVL_lag_4</th>\n",
       "      <th>pacf_AVL_lag_5</th>\n",
       "      <th>...</th>\n",
       "      <th>acf_I_lag_3</th>\n",
       "      <th>acf_I_lag_4</th>\n",
       "      <th>acf_I_lag_5</th>\n",
       "      <th>pacf_I_lag_1</th>\n",
       "      <th>pacf_I_lag_2</th>\n",
       "      <th>pacf_I_lag_3</th>\n",
       "      <th>pacf_I_lag_4</th>\n",
       "      <th>pacf_I_lag_5</th>\n",
       "      <th>patient_id</th>\n",
       "      <th>label</th>\n",
       "    </tr>\n",
       "  </thead>\n",
       "  <tbody>\n",
       "    <tr>\n",
       "      <th>0</th>\n",
       "      <td>0.401996</td>\n",
       "      <td>-0.363673</td>\n",
       "      <td>-0.454023</td>\n",
       "      <td>-0.176922</td>\n",
       "      <td>0.062640</td>\n",
       "      <td>0.402398</td>\n",
       "      <td>-0.628019</td>\n",
       "      <td>0.071025</td>\n",
       "      <td>-0.264127</td>\n",
       "      <td>0.003779</td>\n",
       "      <td>...</td>\n",
       "      <td>-0.489441</td>\n",
       "      <td>-0.186072</td>\n",
       "      <td>0.059897</td>\n",
       "      <td>0.445882</td>\n",
       "      <td>-0.684347</td>\n",
       "      <td>0.180036</td>\n",
       "      <td>-0.301687</td>\n",
       "      <td>-0.001160</td>\n",
       "      <td>patient_2415</td>\n",
       "      <td>mi</td>\n",
       "    </tr>\n",
       "    <tr>\n",
       "      <th>1</th>\n",
       "      <td>0.595239</td>\n",
       "      <td>0.182054</td>\n",
       "      <td>-0.041543</td>\n",
       "      <td>-0.235254</td>\n",
       "      <td>-0.185990</td>\n",
       "      <td>0.595836</td>\n",
       "      <td>-0.267607</td>\n",
       "      <td>-0.033394</td>\n",
       "      <td>-0.235717</td>\n",
       "      <td>0.158385</td>\n",
       "      <td>...</td>\n",
       "      <td>0.024250</td>\n",
       "      <td>-0.187993</td>\n",
       "      <td>-0.155805</td>\n",
       "      <td>0.513110</td>\n",
       "      <td>-0.185329</td>\n",
       "      <td>0.059501</td>\n",
       "      <td>-0.290966</td>\n",
       "      <td>0.137827</td>\n",
       "      <td>patient_3086</td>\n",
       "      <td>mi</td>\n",
       "    </tr>\n",
       "    <tr>\n",
       "      <th>2</th>\n",
       "      <td>0.640743</td>\n",
       "      <td>0.258573</td>\n",
       "      <td>0.105409</td>\n",
       "      <td>-0.048373</td>\n",
       "      <td>-0.097295</td>\n",
       "      <td>0.641385</td>\n",
       "      <td>-0.258708</td>\n",
       "      <td>0.113775</td>\n",
       "      <td>-0.219842</td>\n",
       "      <td>0.103010</td>\n",
       "      <td>...</td>\n",
       "      <td>-0.186840</td>\n",
       "      <td>-0.149321</td>\n",
       "      <td>-0.122184</td>\n",
       "      <td>0.480558</td>\n",
       "      <td>-0.461351</td>\n",
       "      <td>0.200363</td>\n",
       "      <td>-0.295759</td>\n",
       "      <td>0.103905</td>\n",
       "      <td>patient_2171</td>\n",
       "      <td>mi</td>\n",
       "    </tr>\n",
       "    <tr>\n",
       "      <th>3</th>\n",
       "      <td>0.629840</td>\n",
       "      <td>0.041866</td>\n",
       "      <td>-0.284973</td>\n",
       "      <td>-0.376588</td>\n",
       "      <td>-0.307821</td>\n",
       "      <td>0.630471</td>\n",
       "      <td>-0.590107</td>\n",
       "      <td>0.112449</td>\n",
       "      <td>-0.294009</td>\n",
       "      <td>0.041728</td>\n",
       "      <td>...</td>\n",
       "      <td>-0.214170</td>\n",
       "      <td>-0.390316</td>\n",
       "      <td>-0.382010</td>\n",
       "      <td>0.684529</td>\n",
       "      <td>-0.589648</td>\n",
       "      <td>0.057414</td>\n",
       "      <td>-0.257395</td>\n",
       "      <td>0.024389</td>\n",
       "      <td>patient_1450</td>\n",
       "      <td>mi</td>\n",
       "    </tr>\n",
       "    <tr>\n",
       "      <th>4</th>\n",
       "      <td>0.498792</td>\n",
       "      <td>-0.222485</td>\n",
       "      <td>-0.371463</td>\n",
       "      <td>-0.191408</td>\n",
       "      <td>-0.072291</td>\n",
       "      <td>0.499292</td>\n",
       "      <td>-0.629038</td>\n",
       "      <td>0.270723</td>\n",
       "      <td>-0.357211</td>\n",
       "      <td>0.061542</td>\n",
       "      <td>...</td>\n",
       "      <td>-0.330432</td>\n",
       "      <td>-0.109626</td>\n",
       "      <td>-0.028044</td>\n",
       "      <td>0.431913</td>\n",
       "      <td>-0.599114</td>\n",
       "      <td>0.259065</td>\n",
       "      <td>-0.361061</td>\n",
       "      <td>0.118161</td>\n",
       "      <td>patient_944</td>\n",
       "      <td>mi</td>\n",
       "    </tr>\n",
       "  </tbody>\n",
       "</table>\n",
       "<p>5 rows × 122 columns</p>\n",
       "</div>"
      ],
      "text/plain": [
       "   acf_AVL_lag_1  acf_AVL_lag_2  acf_AVL_lag_3  acf_AVL_lag_4  acf_AVL_lag_5  \\\n",
       "0       0.401996      -0.363673      -0.454023      -0.176922       0.062640   \n",
       "1       0.595239       0.182054      -0.041543      -0.235254      -0.185990   \n",
       "2       0.640743       0.258573       0.105409      -0.048373      -0.097295   \n",
       "3       0.629840       0.041866      -0.284973      -0.376588      -0.307821   \n",
       "4       0.498792      -0.222485      -0.371463      -0.191408      -0.072291   \n",
       "\n",
       "   pacf_AVL_lag_1  pacf_AVL_lag_2  pacf_AVL_lag_3  pacf_AVL_lag_4  \\\n",
       "0        0.402398       -0.628019        0.071025       -0.264127   \n",
       "1        0.595836       -0.267607       -0.033394       -0.235717   \n",
       "2        0.641385       -0.258708        0.113775       -0.219842   \n",
       "3        0.630471       -0.590107        0.112449       -0.294009   \n",
       "4        0.499292       -0.629038        0.270723       -0.357211   \n",
       "\n",
       "   pacf_AVL_lag_5  ...  acf_I_lag_3  acf_I_lag_4  acf_I_lag_5  pacf_I_lag_1  \\\n",
       "0        0.003779  ...    -0.489441    -0.186072     0.059897      0.445882   \n",
       "1        0.158385  ...     0.024250    -0.187993    -0.155805      0.513110   \n",
       "2        0.103010  ...    -0.186840    -0.149321    -0.122184      0.480558   \n",
       "3        0.041728  ...    -0.214170    -0.390316    -0.382010      0.684529   \n",
       "4        0.061542  ...    -0.330432    -0.109626    -0.028044      0.431913   \n",
       "\n",
       "   pacf_I_lag_2  pacf_I_lag_3  pacf_I_lag_4  pacf_I_lag_5    patient_id  label  \n",
       "0     -0.684347      0.180036     -0.301687     -0.001160  patient_2415     mi  \n",
       "1     -0.185329      0.059501     -0.290966      0.137827  patient_3086     mi  \n",
       "2     -0.461351      0.200363     -0.295759      0.103905  patient_2171     mi  \n",
       "3     -0.589648      0.057414     -0.257395      0.024389  patient_1450     mi  \n",
       "4     -0.599114      0.259065     -0.361061      0.118161   patient_944     mi  \n",
       "\n",
       "[5 rows x 122 columns]"
      ]
     },
     "execution_count": 15,
     "metadata": {},
     "output_type": "execute_result"
    }
   ],
   "source": [
    "df_acf_pacf.head()"
   ]
  },
  {
   "cell_type": "code",
   "execution_count": 14,
   "metadata": {},
   "outputs": [],
   "source": [
    "from sklearn.cluster import KMeans\n",
    "import matplotlib.pyplot as plt\n",
    "import seaborn as sns"
   ]
  },
  {
   "cell_type": "code",
   "execution_count": 15,
   "metadata": {},
   "outputs": [],
   "source": [
    "# df_mi_acf_pacf = dict_to_dataframe(genera_df_acf_pacf(df_mi, list_signals))\n",
    "df_acf_pacf_test = df_acf_pacf.copy()"
   ]
  },
  {
   "cell_type": "code",
   "execution_count": 16,
   "metadata": {},
   "outputs": [],
   "source": [
    "test_columns = ['acf_II_lag_1', 'acf_II_lag_2', 'acf_II_lag_3', 'acf_II_lag_4',\n",
    "       'acf_II_lag_5', 'pacf_II_lag_1', 'pacf_II_lag_2', 'pacf_II_lag_3',\n",
    "       'pacf_II_lag_4', 'pacf_II_lag_5']"
   ]
  },
  {
   "cell_type": "code",
   "execution_count": 21,
   "metadata": {},
   "outputs": [],
   "source": [
    "kmeans = KMeans(n_clusters=4, random_state=42)\n",
    "# df_acf_pacf['cluster'] = kmeans.fit_predict(df_acf_pacf.drop(columns=[\"patient_id\", \"label\"]))\n",
    "df_acf_pacf_test['cluster'] = kmeans.fit_predict(df_acf_pacf_test.filter(like='acf', axis=1))\n"
   ]
  },
  {
   "cell_type": "code",
   "execution_count": 22,
   "metadata": {},
   "outputs": [
    {
     "data": {
      "text/plain": [
       "label    cluster\n",
       "mi       0          190\n",
       "         1           49\n",
       "         2          150\n",
       "         3          211\n",
       "other    0          243\n",
       "         1           21\n",
       "         2           37\n",
       "         3          299\n",
       "sttc     0          209\n",
       "         1           18\n",
       "         2          112\n",
       "         3          261\n",
       "sttc_mi  0          145\n",
       "         1           65\n",
       "         2          215\n",
       "         3          175\n",
       "Name: patient_id, dtype: int64"
      ]
     },
     "execution_count": 22,
     "metadata": {},
     "output_type": "execute_result"
    }
   ],
   "source": [
    "df_acf_pacf_test.groupby([\"label\", \"cluster\"]).count()[\"patient_id\"]"
   ]
  }
 ],
 "metadata": {
  "kernelspec": {
   "display_name": "base_mcd",
   "language": "python",
   "name": "python3"
  },
  "language_info": {
   "codemirror_mode": {
    "name": "ipython",
    "version": 3
   },
   "file_extension": ".py",
   "mimetype": "text/x-python",
   "name": "python",
   "nbconvert_exporter": "python",
   "pygments_lexer": "ipython3",
   "version": "3.11.9"
  }
 },
 "nbformat": 4,
 "nbformat_minor": 2
}
