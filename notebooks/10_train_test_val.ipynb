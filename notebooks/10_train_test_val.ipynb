{
 "cells": [
  {
   "cell_type": "markdown",
   "metadata": {},
   "source": [
    "## <a id = '0'> Índice </a>\n",
    "\n",
    "* [**Entorno**](#1)  \n",
    "   * [Librerías](#1d1)  \n",
    "   * [Funciones](#1d2)  \n",
    "   * [Constantes](#1d3)\n",
    "\n",
    "* [**Lectura de datos**](#2)\n"
   ]
  },
  {
   "cell_type": "markdown",
   "metadata": {},
   "source": [
    "## <a id = '1'> Entorno </a>\n",
    "[índice](#0)"
   ]
  },
  {
   "cell_type": "markdown",
   "metadata": {},
   "source": [
    "### <a id = '1d1'> Librerías </a>"
   ]
  },
  {
   "cell_type": "code",
   "execution_count": 1,
   "metadata": {},
   "outputs": [],
   "source": [
    "import os\n",
    "import pandas as pd\n"
   ]
  },
  {
   "cell_type": "code",
   "execution_count": 2,
   "metadata": {},
   "outputs": [],
   "source": [
    "os.chdir(\"../\")"
   ]
  },
  {
   "cell_type": "markdown",
   "metadata": {},
   "source": [
    "### <a id = '1d2'> Funciones </a>"
   ]
  },
  {
   "cell_type": "code",
   "execution_count": 3,
   "metadata": {},
   "outputs": [],
   "source": [
    "from src.utils import lectura_carpetas_dict, split_train_test_val"
   ]
  },
  {
   "cell_type": "markdown",
   "metadata": {},
   "source": [
    "### <a id = '1d3'> Constantes </a>"
   ]
  },
  {
   "cell_type": "code",
   "execution_count": 4,
   "metadata": {},
   "outputs": [],
   "source": [
    "from config.cons import data_folder"
   ]
  },
  {
   "cell_type": "markdown",
   "metadata": {},
   "source": [
    "## <a id = '2'> Lectura de datos </a>\n",
    "[índice](#0)"
   ]
  },
  {
   "cell_type": "code",
   "execution_count": 5,
   "metadata": {},
   "outputs": [],
   "source": [
    "proyect_path = os.getcwd()\n",
    "data_path = proyect_path + data_folder"
   ]
  },
  {
   "cell_type": "code",
   "execution_count": 6,
   "metadata": {},
   "outputs": [],
   "source": [
    "df_all = lectura_carpetas_dict(data_path)"
   ]
  },
  {
   "cell_type": "code",
   "execution_count": 7,
   "metadata": {},
   "outputs": [],
   "source": [
    "df_mi = df_all[\"mi\"]\n",
    "df_sttc_mi = df_all[\"sttc_mi\"]\n",
    "df_sttc = df_all[\"sttc\"]\n",
    "df_other = df_all[\"other\"]"
   ]
  },
  {
   "cell_type": "code",
   "execution_count": 8,
   "metadata": {},
   "outputs": [],
   "source": [
    "patients_mi = pd.DataFrame({'patient_id' : df_mi.keys(),\n",
    "             'class' : \"mi\",\n",
    "             \"class_id\" : 0})\n",
    "patients_sttc_mi = pd.DataFrame({'patient_id' : df_sttc_mi.keys(),\n",
    "             'class' : \"sttc_mi\",\n",
    "             \"class_id\" : 1})\n",
    "patients_sttc = pd.DataFrame({'patient_id' : df_sttc.keys(),\n",
    "             'class' : \"sttc\",\n",
    "             \"class_id\" : 2})\n",
    "patients_other = pd.DataFrame({'patient_id' : df_other.keys(),\n",
    "             'class' : \"other\",\n",
    "             \"class_id\" : 3})\n",
    "\n",
    "patients_classes = pd.concat([patients_mi, patients_sttc_mi, patients_sttc, patients_other], axis=0)"
   ]
  },
  {
   "cell_type": "markdown",
   "metadata": {},
   "source": [
    "## Split Train Test Val"
   ]
  },
  {
   "cell_type": "code",
   "execution_count": 9,
   "metadata": {},
   "outputs": [],
   "source": [
    "\n",
    "X_train, X_test, X_val, y_train, y_test, y_val = split_train_test_val(patients_classes[\"patient_id\"], patients_classes[\"class\"], sizes = [0.05, 0.05], random_state = 42, stratify = patients_classes[\"class\"])"
   ]
  },
  {
   "cell_type": "code",
   "execution_count": 10,
   "metadata": {},
   "outputs": [],
   "source": [
    "train_patients = pd.DataFrame({\"patient\" : X_train, \n",
    "              \"class\": y_train,\n",
    "              \"sample\" : \"train\"})\n",
    "test_patients = pd.DataFrame({\"patient\" : X_test, \n",
    "              \"class\": y_test,\n",
    "              \"sample\" : \"test\"})\n",
    "val_patients = pd.DataFrame({\"patient\" : X_val, \n",
    "              \"class\": y_val,\n",
    "              \"sample\" : \"validation\"})\n",
    "patients = pd.concat([train_patients, test_patients, val_patients], axis=0)"
   ]
  },
  {
   "cell_type": "code",
   "execution_count": 11,
   "metadata": {},
   "outputs": [],
   "source": [
    "os.makedirs(f\"output/split_train_test/\", exist_ok=True)"
   ]
  },
  {
   "cell_type": "code",
   "execution_count": 12,
   "metadata": {},
   "outputs": [],
   "source": [
    "patients.to_csv(\"output/split_train_test/patients_90_05_05.csv\", index = False)"
   ]
  },
  {
   "cell_type": "code",
   "execution_count": 9,
   "metadata": {},
   "outputs": [],
   "source": [
    "X_train, X_test, X_val, y_train, y_test, y_val = split_train_test_val(patients_classes[\"patient_id\"], patients_classes[\"class\"], sizes = [0.1, 0.1], random_state = 42, stratify = patients_classes[\"class\"])"
   ]
  },
  {
   "cell_type": "code",
   "execution_count": 10,
   "metadata": {},
   "outputs": [],
   "source": [
    "train_patients = pd.DataFrame({\"patient\" : X_train, \n",
    "              \"class\": y_train,\n",
    "              \"sample\" : \"train\"})\n",
    "test_patients = pd.DataFrame({\"patient\" : X_test, \n",
    "              \"class\": y_test,\n",
    "              \"sample\" : \"test\"})\n",
    "val_patients = pd.DataFrame({\"patient\" : X_val, \n",
    "              \"class\": y_val,\n",
    "              \"sample\" : \"validation\"})\n",
    "patients = pd.concat([train_patients, test_patients, val_patients], axis=0)"
   ]
  },
  {
   "cell_type": "code",
   "execution_count": 11,
   "metadata": {},
   "outputs": [],
   "source": [
    "patients.to_csv(\"output/split_train_test/patients_80_10_10.csv\", index = False)"
   ]
  },
  {
   "cell_type": "code",
   "execution_count": null,
   "metadata": {},
   "outputs": [],
   "source": []
  },
  {
   "cell_type": "code",
   "execution_count": 13,
   "metadata": {},
   "outputs": [],
   "source": [
    "patients = pd.read_csv(\"output/split_train_test/patients_90_05_05.csv\")"
   ]
  },
  {
   "cell_type": "code",
   "execution_count": 14,
   "metadata": {},
   "outputs": [],
   "source": [
    "patients_train = patients[(patients[\"sample\"] == \"train\")]\n",
    "patients_test = patients[(patients[\"sample\"] == \"test\")]\n",
    "patients_val = patients[(patients[\"sample\"] == \"validation\")]"
   ]
  },
  {
   "cell_type": "code",
   "execution_count": 15,
   "metadata": {},
   "outputs": [],
   "source": [
    "patients_train_mi = patients_train[patients_train[\"class\"] == \"mi\"][\"patient\"].values\n",
    "patients_train_sttc_mi = patients_train[patients_train[\"class\"] == \"sttc_mi\"][\"patient\"].values\n",
    "patients_train_sttc = patients_train[patients_train[\"class\"] == \"sttc\"][\"patient\"].values\n",
    "patients_train_other = patients_train[patients_train[\"class\"] == \"other\"][\"patient\"].values"
   ]
  },
  {
   "cell_type": "code",
   "execution_count": 16,
   "metadata": {},
   "outputs": [],
   "source": [
    "patients_test_mi = patients_test[patients_test[\"class\"] == \"mi\"][\"patient\"].values\n",
    "patients_test_sttc_mi = patients_test[patients_test[\"class\"] == \"sttc_mi\"][\"patient\"].values\n",
    "patients_test_sttc = patients_test[patients_test[\"class\"] == \"sttc\"][\"patient\"].values\n",
    "patients_test_other = patients_test[patients_test[\"class\"] == \"other\"][\"patient\"].values"
   ]
  },
  {
   "cell_type": "code",
   "execution_count": 17,
   "metadata": {},
   "outputs": [],
   "source": [
    "patients_val_mi = patients_val[patients_val[\"class\"] == \"mi\"][\"patient\"].values\n",
    "patients_val_sttc_mi = patients_val[patients_val[\"class\"] == \"sttc_mi\"][\"patient\"].values\n",
    "patients_val_sttc = patients_val[patients_val[\"class\"] == \"sttc\"][\"patient\"].values\n",
    "patients_val_other = patients_val[patients_val[\"class\"] == \"other\"][\"patient\"].values"
   ]
  },
  {
   "cell_type": "code",
   "execution_count": 18,
   "metadata": {},
   "outputs": [],
   "source": [
    "mi_chunk = pd.read_csv(\"output/chunk_data/chunk_100/mi_chunks.csv\")\n",
    "sttc_mi_chunk = pd.read_csv(\"output/chunk_data/chunk_100/sttc_mi_chunks.csv\")\n",
    "sttc_chunk = pd.read_csv(\"output/chunk_data/chunk_100/sttc_chunks.csv\")\n",
    "other_chunk = pd.read_csv(\"output/chunk_data/chunk_100/other_chunks.csv\")"
   ]
  },
  {
   "cell_type": "code",
   "execution_count": 19,
   "metadata": {},
   "outputs": [],
   "source": [
    "df_mi_train = mi_chunk[mi_chunk[\"patient_id\"].isin(patients_train_mi)]\n",
    "df_sttc_mi_train = sttc_mi_chunk[sttc_mi_chunk[\"patient_id\"].isin(patients_train_sttc_mi)]\n",
    "df_sttc_train = sttc_chunk[sttc_chunk[\"patient_id\"].isin(patients_train_sttc)]\n",
    "df_other_train = other_chunk[other_chunk[\"patient_id\"].isin(patients_train_other)]"
   ]
  },
  {
   "cell_type": "code",
   "execution_count": 20,
   "metadata": {},
   "outputs": [],
   "source": [
    "df_mi_test = mi_chunk[mi_chunk[\"patient_id\"].isin(patients_test_mi)]\n",
    "df_sttc_mi_test = sttc_mi_chunk[sttc_mi_chunk[\"patient_id\"].isin(patients_test_sttc_mi)]\n",
    "df_sttc_test = sttc_chunk[sttc_chunk[\"patient_id\"].isin(patients_test_sttc)]\n",
    "df_other_test = other_chunk[other_chunk[\"patient_id\"].isin(patients_test_other)]"
   ]
  },
  {
   "cell_type": "code",
   "execution_count": 21,
   "metadata": {},
   "outputs": [],
   "source": [
    "df_mi_val = mi_chunk[mi_chunk[\"patient_id\"].isin(patients_val_mi)]\n",
    "df_sttc_mi_val = sttc_mi_chunk[sttc_mi_chunk[\"patient_id\"].isin(patients_val_sttc_mi)]\n",
    "df_sttc_val = sttc_chunk[sttc_chunk[\"patient_id\"].isin(patients_val_sttc)]\n",
    "df_other_val = other_chunk[other_chunk[\"patient_id\"].isin(patients_val_other)]"
   ]
  },
  {
   "cell_type": "code",
   "execution_count": 22,
   "metadata": {},
   "outputs": [],
   "source": [
    "os.makedirs(f\"output/chunk_data/chunk_100/pre_model/\", exist_ok=True)"
   ]
  },
  {
   "cell_type": "code",
   "execution_count": 23,
   "metadata": {},
   "outputs": [],
   "source": [
    "df_train = pd.concat([df_mi_train, df_sttc_mi_train, df_sttc_train, df_other_train], axis=0)\n",
    "df_train = df_train.reset_index(drop=True)\n",
    "\n",
    "df_train.to_csv(f\"output/chunk_data/chunk_100/pre_model/train_data.csv\", index=False)"
   ]
  },
  {
   "cell_type": "code",
   "execution_count": 24,
   "metadata": {},
   "outputs": [],
   "source": [
    "df_test = pd.concat([df_mi_test, df_sttc_mi_test, df_sttc_test, df_other_test], axis=0)\n",
    "df_test = df_test.reset_index(drop=True)\n",
    "df_test.to_csv(f\"output/chunk_data/chunk_100/pre_model/test_data.csv\", index=False)"
   ]
  },
  {
   "cell_type": "code",
   "execution_count": 25,
   "metadata": {},
   "outputs": [],
   "source": [
    "df_val = pd.concat([df_mi_val, df_sttc_mi_val, df_sttc_val, df_other_val], axis=0)\n",
    "df_val = df_val.reset_index(drop=True)\n",
    "df_val.to_csv(f\"output/chunk_data/chunk_100/pre_model/val_data.csv\", index=False)"
   ]
  },
  {
   "cell_type": "code",
   "execution_count": 26,
   "metadata": {},
   "outputs": [],
   "source": [
    "del mi_chunk, sttc_mi_chunk, sttc_chunk, other_chunk\n",
    "del df_mi_train, df_sttc_mi_train, df_sttc_train, df_other_train\n",
    "del df_mi_test, df_sttc_mi_test, df_sttc_test, df_other_test\n",
    "del df_mi_val, df_sttc_mi_val, df_sttc_val, df_other_val\n",
    "del df_train, df_test, df_val"
   ]
  },
  {
   "cell_type": "markdown",
   "metadata": {},
   "source": [
    "## Chunks 5"
   ]
  },
  {
   "cell_type": "code",
   "execution_count": 27,
   "metadata": {},
   "outputs": [],
   "source": [
    "mi_chunk = pd.read_csv(\"output/chunk_data/chunk_5/mi_chunks.csv\")\n",
    "sttc_mi_chunk = pd.read_csv(\"output/chunk_data/chunk_5/sttc_mi_chunks.csv\")\n",
    "sttc_chunk = pd.read_csv(\"output/chunk_data/chunk_5/sttc_chunks.csv\")\n",
    "other_chunk = pd.read_csv(\"output/chunk_data/chunk_5/other_chunks.csv\")"
   ]
  },
  {
   "cell_type": "code",
   "execution_count": 28,
   "metadata": {},
   "outputs": [],
   "source": [
    "df_mi_train = mi_chunk[mi_chunk[\"patient_id\"].isin(patients_train_mi)]\n",
    "df_sttc_mi_train = sttc_mi_chunk[sttc_mi_chunk[\"patient_id\"].isin(patients_train_sttc_mi)]\n",
    "df_sttc_train = sttc_chunk[sttc_chunk[\"patient_id\"].isin(patients_train_sttc)]\n",
    "df_other_train = other_chunk[other_chunk[\"patient_id\"].isin(patients_train_other)]"
   ]
  },
  {
   "cell_type": "code",
   "execution_count": 29,
   "metadata": {},
   "outputs": [],
   "source": [
    "df_mi_test = mi_chunk[mi_chunk[\"patient_id\"].isin(patients_test_mi)]\n",
    "df_sttc_mi_test = sttc_mi_chunk[sttc_mi_chunk[\"patient_id\"].isin(patients_test_sttc_mi)]\n",
    "df_sttc_test = sttc_chunk[sttc_chunk[\"patient_id\"].isin(patients_test_sttc)]\n",
    "df_other_test = other_chunk[other_chunk[\"patient_id\"].isin(patients_test_other)]"
   ]
  },
  {
   "cell_type": "code",
   "execution_count": 30,
   "metadata": {},
   "outputs": [],
   "source": [
    "df_mi_val = mi_chunk[mi_chunk[\"patient_id\"].isin(patients_val_mi)]\n",
    "df_sttc_mi_val = sttc_mi_chunk[sttc_mi_chunk[\"patient_id\"].isin(patients_val_sttc_mi)]\n",
    "df_sttc_val = sttc_chunk[sttc_chunk[\"patient_id\"].isin(patients_val_sttc)]\n",
    "df_other_val = other_chunk[other_chunk[\"patient_id\"].isin(patients_val_other)]"
   ]
  },
  {
   "cell_type": "code",
   "execution_count": 31,
   "metadata": {},
   "outputs": [],
   "source": [
    "os.makedirs(f\"output/chunk_data/chunk_5/pre_model/\", exist_ok=True)"
   ]
  },
  {
   "cell_type": "code",
   "execution_count": 32,
   "metadata": {},
   "outputs": [],
   "source": [
    "df_train = pd.concat([df_mi_train, df_sttc_mi_train, df_sttc_train, df_other_train], axis=0)\n",
    "df_train = df_train.reset_index(drop=True)\n",
    "\n",
    "df_train.to_csv(f\"output/chunk_data/chunk_5/pre_model/train_data.csv\", index=False)"
   ]
  },
  {
   "cell_type": "code",
   "execution_count": 33,
   "metadata": {},
   "outputs": [],
   "source": [
    "df_test = pd.concat([df_mi_test, df_sttc_mi_test, df_sttc_test, df_other_test], axis=0)\n",
    "df_test = df_test.reset_index(drop=True)\n",
    "df_test.to_csv(f\"output/chunk_data/chunk_5/pre_model/test_data.csv\", index=False)"
   ]
  },
  {
   "cell_type": "code",
   "execution_count": 34,
   "metadata": {},
   "outputs": [],
   "source": [
    "df_val = pd.concat([df_mi_val, df_sttc_mi_val, df_sttc_val, df_other_val], axis=0)\n",
    "df_val = df_val.reset_index(drop=True)\n",
    "df_val.to_csv(f\"output/chunk_data/chunk_5/pre_model/val_data.csv\", index=False)"
   ]
  },
  {
   "cell_type": "code",
   "execution_count": 35,
   "metadata": {},
   "outputs": [],
   "source": [
    "del mi_chunk, sttc_mi_chunk, sttc_chunk, other_chunk\n",
    "del df_mi_train, df_sttc_mi_train, df_sttc_train, df_other_train\n",
    "del df_mi_test, df_sttc_mi_test, df_sttc_test, df_other_test\n",
    "del df_mi_val, df_sttc_mi_val, df_sttc_val, df_other_val\n",
    "del df_train, df_test, df_val"
   ]
  }
 ],
 "metadata": {
  "kernelspec": {
   "display_name": "MCD_venv",
   "language": "python",
   "name": "python3"
  },
  "language_info": {
   "codemirror_mode": {
    "name": "ipython",
    "version": 3
   },
   "file_extension": ".py",
   "mimetype": "text/x-python",
   "name": "python",
   "nbconvert_exporter": "python",
   "pygments_lexer": "ipython3",
   "version": "3.11.9"
  }
 },
 "nbformat": 4,
 "nbformat_minor": 2
}
