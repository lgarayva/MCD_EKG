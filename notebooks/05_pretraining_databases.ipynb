{
 "cells": [
  {
   "cell_type": "markdown",
   "metadata": {},
   "source": [
    "## <a id = '0'> Índice </a>\n",
    "\n",
    "* [**Entorno**](#1)  \n",
    "   * [Librerías](#1d1)  \n",
    "   * [Funciones](#1d2)  \n",
    "   * [Constantes](#1d3)\n",
    "\n",
    "* [**Lectura de datos**](#2)\n"
   ]
  },
  {
   "cell_type": "markdown",
   "metadata": {},
   "source": [
    "## <a id = '1'> Entorno </a>\n",
    "[índice](#0)"
   ]
  },
  {
   "cell_type": "markdown",
   "metadata": {},
   "source": [
    "### <a id = '1d1'> Librerías </a>"
   ]
  },
  {
   "cell_type": "code",
   "execution_count": 1,
   "metadata": {},
   "outputs": [],
   "source": [
    "import os\n",
    "import pandas as pd\n",
    "import numpy as np"
   ]
  },
  {
   "cell_type": "code",
   "execution_count": 2,
   "metadata": {},
   "outputs": [],
   "source": [
    "os.chdir(\"../\")"
   ]
  },
  {
   "cell_type": "markdown",
   "metadata": {},
   "source": [
    "### <a id = '1d2'> Funciones </a>"
   ]
  },
  {
   "cell_type": "code",
   "execution_count": 3,
   "metadata": {},
   "outputs": [],
   "source": [
    "from src.utils import *"
   ]
  },
  {
   "cell_type": "markdown",
   "metadata": {},
   "source": [
    "### <a id = '1d3'> Constantes </a>"
   ]
  },
  {
   "cell_type": "code",
   "execution_count": 4,
   "metadata": {},
   "outputs": [],
   "source": [
    "from config.cons import data_folder, window_jason, cara_lateral, cara_anterior, cara_interior, cara_sepal, list_signals"
   ]
  },
  {
   "cell_type": "markdown",
   "metadata": {},
   "source": [
    "## <a id = '2'> Generación de datos features </a>\n",
    "[índice](#0)"
   ]
  },
  {
   "cell_type": "code",
   "execution_count": 5,
   "metadata": {},
   "outputs": [],
   "source": [
    "mi_features_train = get_features(\"train\", \"mi\", )\n",
    "sttc_mi_features_train = get_features(\"train\", \"sttc_mi\", )\n",
    "sttc_features_train = get_features(\"train\", \"sttc\", )\n",
    "other_features_train = get_features(\"train\", \"other\", )"
   ]
  },
  {
   "cell_type": "code",
   "execution_count": 6,
   "metadata": {},
   "outputs": [],
   "source": [
    "mi_features_train[\"label\"] = \"mi\"\n",
    "sttc_mi_features_train[\"label\"] = \"sttc_mi\"\n",
    "sttc_features_train[\"label\"] = \"sttc\"\n",
    "other_features_train[\"label\"] = \"other\"\n",
    "\n",
    "df_train = pd.concat([mi_features_train, sttc_mi_features_train, sttc_features_train, other_features_train], axis=0)\n",
    "df_train = df_train.reset_index(drop=True)\n",
    "\n",
    "cols = [\"patient\", \"label\"] +  [col for col in df_train.columns if col not in [\"patient\", \"label\"]]\n",
    "df_train = df_train[cols]\n",
    "\n",
    "df_train.to_csv(f\"{os.getcwd()}/output/features/pre_model/train_features.csv\", index=False)"
   ]
  },
  {
   "cell_type": "code",
   "execution_count": 7,
   "metadata": {},
   "outputs": [],
   "source": [
    "mi_features_test = get_features(\"test\", \"mi\", )\n",
    "sttc_mi_features_test = get_features(\"test\", \"sttc_mi\", )\n",
    "sttc_features_test = get_features(\"test\", \"sttc\", )\n",
    "other_features_test = get_features(\"test\", \"other\", )"
   ]
  },
  {
   "cell_type": "code",
   "execution_count": 8,
   "metadata": {},
   "outputs": [],
   "source": [
    "mi_features_test[\"label\"] = \"mi\"\n",
    "sttc_mi_features_test[\"label\"] = \"sttc_mi\"\n",
    "sttc_features_test[\"label\"] = \"sttc\"\n",
    "other_features_test[\"label\"] = \"other\"\n",
    "\n",
    "df_test = pd.concat([mi_features_test, sttc_mi_features_test, sttc_features_test, other_features_test], axis=0)\n",
    "df_test = df_test.reset_index(drop=True)\n",
    "\n",
    "cols = [\"patient\", \"label\"] +  [col for col in df_test.columns if col not in [\"patient\", \"label\"]]\n",
    "df_test = df_test[cols]\n",
    "\n",
    "df_test.to_csv(f\"{os.getcwd()}/output/features/pre_model/test_features.csv\", index=False)"
   ]
  },
  {
   "cell_type": "code",
   "execution_count": 9,
   "metadata": {},
   "outputs": [],
   "source": [
    "mi_features_val = get_features(\"val\", \"mi\", )\n",
    "sttc_mi_features_val = get_features(\"val\", \"sttc_mi\", )\n",
    "sttc_features_val = get_features(\"val\", \"sttc\", )\n",
    "other_features_val = get_features(\"val\", \"other\", )"
   ]
  },
  {
   "cell_type": "code",
   "execution_count": 10,
   "metadata": {},
   "outputs": [],
   "source": [
    "mi_features_val[\"label\"] = \"mi\"\n",
    "sttc_mi_features_val[\"label\"] = \"sttc_mi\"\n",
    "sttc_features_val[\"label\"] = \"sttc\"\n",
    "other_features_val[\"label\"] = \"other\"\n",
    "\n",
    "df_val = pd.concat([mi_features_val, sttc_mi_features_val, sttc_features_val, other_features_val], axis=0)\n",
    "df_val = df_val.reset_index(drop=True)\n",
    "\n",
    "cols = [\"patient\", \"label\"] +  [col for col in df_val.columns if col not in [\"patient\", \"label\"]]\n",
    "df_val = df_val[cols]\n",
    "\n",
    "df_val.to_csv(f\"{os.getcwd()}/output/features/pre_model/val_features.csv\", index=False)"
   ]
  }
 ],
 "metadata": {
  "kernelspec": {
   "display_name": "MCD_venv",
   "language": "python",
   "name": "python3"
  },
  "language_info": {
   "codemirror_mode": {
    "name": "ipython",
    "version": 3
   },
   "file_extension": ".py",
   "mimetype": "text/x-python",
   "name": "python",
   "nbconvert_exporter": "python",
   "pygments_lexer": "ipython3",
   "version": "3.11.9"
  }
 },
 "nbformat": 4,
 "nbformat_minor": 2
}
