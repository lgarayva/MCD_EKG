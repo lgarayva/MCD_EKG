{
 "cells": [
  {
   "cell_type": "markdown",
   "metadata": {},
   "source": [
    "## <a id = '0'> Índice </a>\n",
    "\n",
    "* [**Entorno**](#1)  \n",
    "   * [Librerías](#1d1)  \n",
    "   * [Funciones](#1d2)  \n",
    "   * [Constantes](#1d3)\n",
    "\n",
    "* [**Lectura de datos**](#2)\n"
   ]
  },
  {
   "cell_type": "markdown",
   "metadata": {},
   "source": [
    "## <a id = '1'> Entorno </a>\n",
    "[índice](#0)"
   ]
  },
  {
   "cell_type": "markdown",
   "metadata": {},
   "source": [
    "### <a id = '1d1'> Librerías </a>"
   ]
  },
  {
   "cell_type": "code",
   "execution_count": 1,
   "metadata": {},
   "outputs": [],
   "source": [
    "import os\n",
    "import pandas as pd\n",
    "import numpy as np\n",
    "\n",
    "from statsmodels.tsa.stattools import acf, pacf\n",
    "from statsmodels.graphics.tsaplots import plot_acf, plot_pacf\n",
    "\n",
    "\n",
    "from statsmodels.tsa.stattools import adfuller\n",
    "from statsmodels.stats.diagnostic import acorr_ljungbox\n",
    "\n",
    "from statsmodels.tsa.arima.model import ARIMA\n",
    "\n",
    "from statsmodels.tsa.seasonal import seasonal_decompose\n",
    "from statsmodels.tsa.statespace.sarimax import SARIMAX\n",
    "\n",
    "import matplotlib.pyplot as plt\n",
    "\n",
    "import math\n",
    "import itertools\n",
    "# from config import data_folder\n",
    "\n",
    "from scipy.stats import kurtosis, trim_mean\n"
   ]
  },
  {
   "cell_type": "code",
   "execution_count": 2,
   "metadata": {},
   "outputs": [],
   "source": [
    "os.chdir(\"../\")"
   ]
  },
  {
   "cell_type": "markdown",
   "metadata": {},
   "source": [
    "### <a id = '1d2'> Funciones </a>"
   ]
  },
  {
   "cell_type": "code",
   "execution_count": 3,
   "metadata": {},
   "outputs": [],
   "source": [
    "from src.utils import (lectura_carpetas_dict\n",
    "                       , split_dataframe_into_chunks\n",
    "                       , genera_df_acf_pacf_chunk\n",
    "                       , get_dict_serie_summary_chunk\n",
    "                       , patients_dict_ccf_chunk\n",
    "                       , get_ccf_summary_chunk\n",
    "                       )"
   ]
  },
  {
   "cell_type": "markdown",
   "metadata": {},
   "source": [
    "### <a id = '1d3'> Constantes </a>"
   ]
  },
  {
   "cell_type": "code",
   "execution_count": 4,
   "metadata": {},
   "outputs": [],
   "source": [
    "from config.cons import data_folder, list_signals"
   ]
  },
  {
   "cell_type": "markdown",
   "metadata": {},
   "source": [
    "## <a id = '2'> Lectura de datos </a>\n",
    "[índice](#0)"
   ]
  },
  {
   "cell_type": "code",
   "execution_count": 5,
   "metadata": {},
   "outputs": [
    {
     "ename": "",
     "evalue": "",
     "output_type": "error",
     "traceback": [
      "\u001b[1;31mThe Kernel crashed while executing code in the current cell or a previous cell. \n",
      "\u001b[1;31mPlease review the code in the cell(s) to identify a possible cause of the failure. \n",
      "\u001b[1;31mClick <a href='https://aka.ms/vscodeJupyterKernelCrash'>here</a> for more info. \n",
      "\u001b[1;31mView Jupyter <a href='command:jupyter.viewOutput'>log</a> for further details."
     ]
    }
   ],
   "source": [
    "proyect_path = os.getcwd()\n",
    "data_path = proyect_path + data_folder"
   ]
  },
  {
   "cell_type": "code",
   "execution_count": 7,
   "metadata": {},
   "outputs": [],
   "source": [
    "# all_combinaciones = list(itertools.combinations(list_signals, 2))\n",
    "all_combinaciones = list(itertools.combinations_with_replacement(list_signals, 2))\n"
   ]
  },
  {
   "cell_type": "code",
   "execution_count": 7,
   "metadata": {},
   "outputs": [],
   "source": [
    "uni_combinacion = []\n",
    "bi_combinacion = []\n",
    "for col1, col2 in all_combinaciones:\n",
    "    if col1 == col2:\n",
    "        uni_combinacion.append(col1)\n",
    "    else:\n",
    "        bi_combinacion.append(col1 + \"_\" + col2)\n",
    "dict_combinaciones = {\n",
    "    \"uni_combinacion\": uni_combinacion,\n",
    "    \"bi_combinacion\": bi_combinacion\n",
    "}   "
   ]
  },
  {
   "cell_type": "code",
   "execution_count": 8,
   "metadata": {},
   "outputs": [],
   "source": [
    "df_all = lectura_carpetas_dict(data_path)"
   ]
  },
  {
   "cell_type": "code",
   "execution_count": 9,
   "metadata": {},
   "outputs": [],
   "source": [
    "df_mi = df_all[\"mi\"]\n",
    "df_sttc_mi = df_all[\"sttc_mi\"]\n",
    "df_sttc = df_all[\"sttc\"]\n",
    "df_other = df_all[\"other\"]"
   ]
  },
  {
   "cell_type": "code",
   "execution_count": 10,
   "metadata": {},
   "outputs": [],
   "source": [
    "dict_mi = {patient: split_dataframe_into_chunks(df_mi[patient], 100) for patient in df_mi.keys()}\n",
    "df_mi_acf_pacf = genera_df_acf_pacf_chunk(dict_mi, list_signals, apply_diff=True)\n",
    "df_mi_peak = get_dict_serie_summary_chunk(dict_mi, list_signals, period = 10, n_std = 1)\n",
    "df_mi_ccf = patients_dict_ccf_chunk(dict_mi, all_combinaciones, max_lag=25)\n",
    "mi_cff_features = get_ccf_summary_chunk(df_mi_ccf, dict_combinaciones, proportion_to_cut = 0.05)"
   ]
  },
  {
   "cell_type": "code",
   "execution_count": 11,
   "metadata": {},
   "outputs": [],
   "source": [
    "df_mi_features = (\n",
    "    df_mi_acf_pacf\n",
    "    .merge(df_mi_peak, on=[\"patient_id\", \"label\"], how=\"inner\")\n",
    "    .merge(mi_cff_features, on=[\"patient_id\", \"label\"], how=\"inner\")\n",
    ")\n",
    "\n",
    "cols = ['patient_id', 'label', 'chunk'] + [col for col in df_mi_features.columns if col not in ('patient_id', 'label', 'chunk')]\n",
    "\n",
    "df_mi_features = df_mi_features[cols]"
   ]
  },
  {
   "cell_type": "code",
   "execution_count": 26,
   "metadata": {},
   "outputs": [],
   "source": [
    "df_mi_features.to_csv(\"output/chunk_data/chunk_100/features/mi_features.csv\", index=False)"
   ]
  },
  {
   "cell_type": "code",
   "execution_count": 13,
   "metadata": {},
   "outputs": [],
   "source": [
    "del dict_mi, df_mi_acf_pacf, df_mi_peak, mi_cff_features"
   ]
  },
  {
   "cell_type": "code",
   "execution_count": 14,
   "metadata": {},
   "outputs": [],
   "source": [
    "dict_sttc_mi = {patient: split_dataframe_into_chunks(df_sttc_mi[patient], 100) for patient in df_sttc_mi.keys()}\n",
    "df_sttc_mi_acf_pacf = genera_df_acf_pacf_chunk(dict_sttc_mi, list_signals, apply_diff=True)\n",
    "df_sttc_mi_peak = get_dict_serie_summary_chunk(dict_sttc_mi, list_signals, period = 10, n_std = 1)\n",
    "df_sttc_mi_ccf = patients_dict_ccf_chunk(dict_sttc_mi, all_combinaciones, max_lag=25)\n",
    "sttc_mi_cff_features = get_ccf_summary_chunk(df_sttc_mi_ccf, dict_combinaciones, proportion_to_cut = 0.05)"
   ]
  },
  {
   "cell_type": "code",
   "execution_count": 15,
   "metadata": {},
   "outputs": [],
   "source": [
    "df_sttc_mi_features = (\n",
    "    df_sttc_mi_acf_pacf\n",
    "    .merge(df_sttc_mi_peak, on=[\"patient_id\", \"label\"], how=\"inner\")\n",
    "    .merge(sttc_mi_cff_features, on=[\"patient_id\", \"label\"], how=\"inner\")\n",
    ")\n",
    "\n",
    "cols = ['patient_id', 'label', 'chunk'] + [col for col in df_sttc_mi_features.columns if col not in ('patient_id', 'label', 'chunk')]\n",
    "\n",
    "df_sttc_mi_features = df_sttc_mi_features[cols]"
   ]
  },
  {
   "cell_type": "code",
   "execution_count": 16,
   "metadata": {},
   "outputs": [],
   "source": [
    "del dict_sttc_mi, df_sttc_mi_acf_pacf, df_sttc_mi_peak, df_sttc_mi_ccf"
   ]
  },
  {
   "cell_type": "code",
   "execution_count": 27,
   "metadata": {},
   "outputs": [],
   "source": [
    "df_sttc_mi_features.to_csv(\"output/chunk_data/chunk_100/features/sttc_mi_features.csv\", index=False)\n"
   ]
  },
  {
   "cell_type": "code",
   "execution_count": 18,
   "metadata": {},
   "outputs": [],
   "source": [
    "dict_sttc = {patient: split_dataframe_into_chunks(df_sttc[patient], 100) for patient in df_sttc.keys()}\n",
    "df_sttc_acf_pacf = genera_df_acf_pacf_chunk(dict_sttc, list_signals, apply_diff=True)\n",
    "df_sttc_peak = get_dict_serie_summary_chunk(dict_sttc, list_signals, period = 10, n_std = 1)\n",
    "df_sttc_ccf = patients_dict_ccf_chunk(dict_sttc, all_combinaciones, max_lag=25)\n",
    "sttc_cff_features = get_ccf_summary_chunk(df_sttc_ccf, dict_combinaciones, proportion_to_cut = 0.05)"
   ]
  },
  {
   "cell_type": "code",
   "execution_count": 19,
   "metadata": {},
   "outputs": [],
   "source": [
    "df_sttc_features = (\n",
    "    df_sttc_acf_pacf\n",
    "    .merge(df_sttc_peak, on=[\"patient_id\", \"label\"], how=\"inner\")\n",
    "    .merge(sttc_cff_features, on=[\"patient_id\", \"label\"], how=\"inner\")\n",
    ")\n",
    "\n",
    "cols = ['patient_id', 'label', 'chunk'] + [col for col in df_sttc_features.columns if col not in ('patient_id', 'label', 'chunk')]\n",
    "\n",
    "df_sttc_features = df_sttc_features[cols]"
   ]
  },
  {
   "cell_type": "code",
   "execution_count": 20,
   "metadata": {},
   "outputs": [],
   "source": [
    "df_sttc_features.to_csv(\"output/chunk_data/chunk_100/features/sttc_features.csv\", index=False)"
   ]
  },
  {
   "cell_type": "code",
   "execution_count": 21,
   "metadata": {},
   "outputs": [],
   "source": [
    "del dict_sttc, df_sttc_acf_pacf, df_sttc_peak, sttc_cff_features"
   ]
  },
  {
   "cell_type": "code",
   "execution_count": 22,
   "metadata": {},
   "outputs": [],
   "source": [
    "dict_other = {patient: split_dataframe_into_chunks(df_other[patient], 100) for patient in df_other.keys()}\n",
    "df_other_acf_pacf = genera_df_acf_pacf_chunk(dict_other, list_signals, apply_diff=True)\n",
    "df_other_peak = get_dict_serie_summary_chunk(dict_other, list_signals, period = 10, n_std = 1)\n",
    "df_other_ccf = patients_dict_ccf_chunk(dict_other, all_combinaciones, max_lag=25)\n",
    "other_cff_features = get_ccf_summary_chunk(df_other_ccf, dict_combinaciones, proportion_to_cut = 0.05)"
   ]
  },
  {
   "cell_type": "code",
   "execution_count": 23,
   "metadata": {},
   "outputs": [],
   "source": [
    "df_other_features = (\n",
    "    df_other_acf_pacf\n",
    "    .merge(df_other_peak, on=[\"patient_id\", \"label\"], how=\"inner\")\n",
    "    .merge(other_cff_features, on=[\"patient_id\", \"label\"], how=\"inner\")\n",
    ")\n",
    "\n",
    "cols = ['patient_id', 'label', 'chunk'] + [col for col in df_other_features.columns if col not in ('patient_id', 'label', 'chunk')]\n",
    "\n",
    "df_other_features = df_other_features[cols]"
   ]
  },
  {
   "cell_type": "code",
   "execution_count": 24,
   "metadata": {},
   "outputs": [],
   "source": [
    "df_other_features.to_csv(\"output/chunk_data/chunk_100/features/other_features.csv\", index=False)"
   ]
  },
  {
   "cell_type": "code",
   "execution_count": 25,
   "metadata": {},
   "outputs": [],
   "source": [
    "del dict_other, df_other_acf_pacf, df_other_peak, other_cff_features"
   ]
  },
  {
   "cell_type": "code",
   "execution_count": 8,
   "metadata": {},
   "outputs": [],
   "source": [
    "df_mi_features = pd.read_csv(\"output/chunk_data/chunk_100/features/mi_features.csv\")\n",
    "df_sttc_mi_features = pd.read_csv(\"output/chunk_data/chunk_100/features/sttc_mi_features.csv\")\n",
    "df_sttc_features = pd.read_csv(\"output/chunk_data/chunk_100/features/sttc_features.csv\")\n",
    "df_other_features = pd.read_csv(\"output/chunk_data/chunk_100/features/other_features.csv\")"
   ]
  },
  {
   "cell_type": "code",
   "execution_count": 9,
   "metadata": {},
   "outputs": [],
   "source": [
    "patients = pd.read_csv(\"output/split_train_test/patients_90_05_05.csv\").rename(columns={\"patient\": \"patient_id\", \"class\": \"label\"})"
   ]
  },
  {
   "cell_type": "code",
   "execution_count": 10,
   "metadata": {},
   "outputs": [],
   "source": [
    "patients_train = patients[(patients[\"sample\"] == \"train\")][[\"patient_id\", \"label\"]]\n",
    "patients_test = patients[(patients[\"sample\"] == \"test\")][[\"patient_id\", \"label\"]]\n",
    "patients_val = patients[(patients[\"sample\"] == \"validation\")][[\"patient_id\", \"label\"]]"
   ]
  },
  {
   "cell_type": "code",
   "execution_count": 11,
   "metadata": {},
   "outputs": [],
   "source": [
    "df_features = pd.concat([df_mi_features, df_sttc_mi_features, df_sttc_features, df_other_features], axis=0)"
   ]
  },
  {
   "cell_type": "code",
   "execution_count": 12,
   "metadata": {},
   "outputs": [],
   "source": [
    "df_features.to_csv(\"output/chunk_data/chunk_100/features/all_features.csv\", index=False)"
   ]
  },
  {
   "cell_type": "code",
   "execution_count": null,
   "metadata": {},
   "outputs": [],
   "source": [
    "df_features = pd.read_csv(\"output/chunk_data/chunk_100/features/all_features.csv\")"
   ]
  },
  {
   "cell_type": "code",
   "execution_count": 13,
   "metadata": {},
   "outputs": [
    {
     "ename": "",
     "evalue": "",
     "output_type": "error",
     "traceback": [
      "\u001b[1;31mThe Kernel crashed while executing code in the current cell or a previous cell. \n",
      "\u001b[1;31mPlease review the code in the cell(s) to identify a possible cause of the failure. \n",
      "\u001b[1;31mClick <a href='https://aka.ms/vscodeJupyterKernelCrash'>here</a> for more info. \n",
      "\u001b[1;31mView Jupyter <a href='command:jupyter.viewOutput'>log</a> for further details."
     ]
    }
   ],
   "source": [
    "features_train = df_features.merge(patients_train, on=[\"patient_id\", \"label\"], how=\"inner\")"
   ]
  },
  {
   "cell_type": "code",
   "execution_count": null,
   "metadata": {},
   "outputs": [],
   "source": [
    "features_train.to_csv(\"output/chunk_data/chunk_100/features/all_features.csv\", index=False)"
   ]
  },
  {
   "cell_type": "code",
   "execution_count": 30,
   "metadata": {},
   "outputs": [],
   "source": [
    "patients_train_mi = patients_train[patients_train[\"class\"] == \"mi\"][\"patient\"]\n",
    "patients_train_sttc_mi = patients_train[patients_train[\"class\"] == \"sttc_mi\"][\"patient\"]\n",
    "patients_train_sttc = patients_train[patients_train[\"class\"] == \"sttc\"][\"patient\"]\n",
    "patients_train_other = patients_train[patients_train[\"class\"] == \"other\"][\"patient\"]\n",
    "\n",
    "patients_test_mi = patients_test[patients_test[\"class\"] == \"mi\"][\"patient\"]\n",
    "patients_test_sttc_mi = patients_test[patients_test[\"class\"] == \"sttc_mi\"][\"patient\"]\n",
    "patients_test_sttc = patients_test[patients_test[\"class\"] == \"sttc\"][\"patient\"]\n",
    "patients_test_other = patients_test[patients_test[\"class\"] == \"other\"][\"patient\"]\n",
    "\n",
    "patients_val_mi = patients_val[patients_val[\"class\"] == \"mi\"][\"patient\"]\n",
    "patients_val_sttc_mi = patients_val[patients_val[\"class\"] == \"sttc_mi\"][\"patient\"]\n",
    "patients_val_sttc = patients_val[patients_val[\"class\"] == \"sttc\"][\"patient\"]\n",
    "patients_val_other = patients_val[patients_val[\"class\"] == \"other\"][\"patient\"]\n",
    "\n"
   ]
  },
  {
   "cell_type": "code",
   "execution_count": 31,
   "metadata": {},
   "outputs": [],
   "source": [
    "df_mi_train = df_mi_features[df_mi_features[\"patient_id\"].isin(patients_train_mi)]\n",
    "df_sttc_mi_train = df_sttc_mi_features[df_sttc_mi_features[\"patient_id\"].isin(patients_train_sttc_mi)]\n",
    "df_sttc_train = df_sttc_features[df_sttc_features[\"patient_id\"].isin(patients_train_sttc)]\n",
    "df_other_train = df_other_features[df_other_features[\"patient_id\"].isin(patients_train_other)]\n",
    "\n",
    "df_mi_test = df_mi_features[df_mi_features[\"patient_id\"].isin(patients_test_mi)]\n",
    "df_sttc_mi_test = df_sttc_mi_features[df_sttc_mi_features[\"patient_id\"].isin(patients_test_sttc_mi)]\n",
    "df_sttc_test = df_sttc_features[df_sttc_features[\"patient_id\"].isin(patients_test_sttc)]\n",
    "df_other_test = df_other_features[df_other_features[\"patient_id\"].isin(patients_test_other)]\n",
    "\n",
    "df_mi_val = df_mi_features[df_mi_features[\"patient_id\"].isin(patients_val_mi)]\n",
    "df_sttc_mi_val = df_sttc_mi_features[df_sttc_mi_features[\"patient_id\"].isin(patients_val_sttc_mi)]\n",
    "df_sttc_val = df_sttc_features[df_sttc_features[\"patient_id\"].isin(patients_val_sttc)]\n",
    "df_other_val = df_other_features[df_other_features[\"patient_id\"].isin(patients_val_other)]"
   ]
  },
  {
   "cell_type": "code",
   "execution_count": 32,
   "metadata": {},
   "outputs": [
    {
     "data": {
      "text/html": [
       "<div>\n",
       "<style scoped>\n",
       "    .dataframe tbody tr th:only-of-type {\n",
       "        vertical-align: middle;\n",
       "    }\n",
       "\n",
       "    .dataframe tbody tr th {\n",
       "        vertical-align: top;\n",
       "    }\n",
       "\n",
       "    .dataframe thead th {\n",
       "        text-align: right;\n",
       "    }\n",
       "</style>\n",
       "<table border=\"1\" class=\"dataframe\">\n",
       "  <thead>\n",
       "    <tr style=\"text-align: right;\">\n",
       "      <th></th>\n",
       "      <th>patient_id</th>\n",
       "      <th>label</th>\n",
       "      <th>chunk</th>\n",
       "      <th>acf_I_lag_1</th>\n",
       "      <th>acf_I_lag_2</th>\n",
       "      <th>acf_I_lag_3</th>\n",
       "      <th>acf_I_lag_4</th>\n",
       "      <th>acf_I_lag_5</th>\n",
       "      <th>pacf_I_lag_1</th>\n",
       "      <th>pacf_I_lag_2</th>\n",
       "      <th>...</th>\n",
       "      <th>n_cruces_cero_V5_V6</th>\n",
       "      <th>promedio_V5_V6</th>\n",
       "      <th>std_V5_V6</th>\n",
       "      <th>max_V5_V6</th>\n",
       "      <th>min_V5_V6</th>\n",
       "      <th>maxlag_V5_V6</th>\n",
       "      <th>minlag_V5_V6</th>\n",
       "      <th>kurtosis_V5_V6</th>\n",
       "      <th>trim_mean_V5_V6</th>\n",
       "      <th>norm_ccf</th>\n",
       "    </tr>\n",
       "  </thead>\n",
       "  <tbody>\n",
       "    <tr>\n",
       "      <th>0</th>\n",
       "      <td>patient_2415</td>\n",
       "      <td>mi</td>\n",
       "      <td>chunk_1</td>\n",
       "      <td>0.331863</td>\n",
       "      <td>-0.415509</td>\n",
       "      <td>-0.444558</td>\n",
       "      <td>-0.117246</td>\n",
       "      <td>0.195589</td>\n",
       "      <td>0.335249</td>\n",
       "      <td>-0.604397</td>\n",
       "      <td>...</td>\n",
       "      <td>2</td>\n",
       "      <td>-0.023925</td>\n",
       "      <td>0.230732</td>\n",
       "      <td>0.963066</td>\n",
       "      <td>-0.184184</td>\n",
       "      <td>0</td>\n",
       "      <td>15</td>\n",
       "      <td>8.965145</td>\n",
       "      <td>-0.056371</td>\n",
       "      <td>0.585239</td>\n",
       "    </tr>\n",
       "    <tr>\n",
       "      <th>1</th>\n",
       "      <td>patient_2415</td>\n",
       "      <td>mi</td>\n",
       "      <td>chunk_2</td>\n",
       "      <td>0.331863</td>\n",
       "      <td>-0.415509</td>\n",
       "      <td>-0.444558</td>\n",
       "      <td>-0.117246</td>\n",
       "      <td>0.195589</td>\n",
       "      <td>0.335249</td>\n",
       "      <td>-0.604397</td>\n",
       "      <td>...</td>\n",
       "      <td>5</td>\n",
       "      <td>-0.056055</td>\n",
       "      <td>0.232134</td>\n",
       "      <td>0.955720</td>\n",
       "      <td>-0.233830</td>\n",
       "      <td>0</td>\n",
       "      <td>19</td>\n",
       "      <td>8.501799</td>\n",
       "      <td>-0.087853</td>\n",
       "      <td>0.756792</td>\n",
       "    </tr>\n",
       "    <tr>\n",
       "      <th>2</th>\n",
       "      <td>patient_2415</td>\n",
       "      <td>mi</td>\n",
       "      <td>chunk_3</td>\n",
       "      <td>0.331863</td>\n",
       "      <td>-0.415509</td>\n",
       "      <td>-0.444558</td>\n",
       "      <td>-0.117246</td>\n",
       "      <td>0.195589</td>\n",
       "      <td>0.335249</td>\n",
       "      <td>-0.604397</td>\n",
       "      <td>...</td>\n",
       "      <td>2</td>\n",
       "      <td>-0.075253</td>\n",
       "      <td>0.233178</td>\n",
       "      <td>0.871191</td>\n",
       "      <td>-0.257949</td>\n",
       "      <td>0</td>\n",
       "      <td>-13</td>\n",
       "      <td>7.329390</td>\n",
       "      <td>-0.105983</td>\n",
       "      <td>0.655799</td>\n",
       "    </tr>\n",
       "    <tr>\n",
       "      <th>3</th>\n",
       "      <td>patient_2415</td>\n",
       "      <td>mi</td>\n",
       "      <td>chunk_4</td>\n",
       "      <td>0.331863</td>\n",
       "      <td>-0.415509</td>\n",
       "      <td>-0.444558</td>\n",
       "      <td>-0.117246</td>\n",
       "      <td>0.195589</td>\n",
       "      <td>0.335249</td>\n",
       "      <td>-0.604397</td>\n",
       "      <td>...</td>\n",
       "      <td>4</td>\n",
       "      <td>-0.124307</td>\n",
       "      <td>0.145294</td>\n",
       "      <td>0.400326</td>\n",
       "      <td>-0.255581</td>\n",
       "      <td>0</td>\n",
       "      <td>-10</td>\n",
       "      <td>3.055412</td>\n",
       "      <td>-0.139548</td>\n",
       "      <td>1.034301</td>\n",
       "    </tr>\n",
       "    <tr>\n",
       "      <th>4</th>\n",
       "      <td>patient_2415</td>\n",
       "      <td>mi</td>\n",
       "      <td>chunk_5</td>\n",
       "      <td>0.331863</td>\n",
       "      <td>-0.415509</td>\n",
       "      <td>-0.444558</td>\n",
       "      <td>-0.117246</td>\n",
       "      <td>0.195589</td>\n",
       "      <td>0.335249</td>\n",
       "      <td>-0.604397</td>\n",
       "      <td>...</td>\n",
       "      <td>3</td>\n",
       "      <td>-0.042716</td>\n",
       "      <td>0.187405</td>\n",
       "      <td>0.712868</td>\n",
       "      <td>-0.227489</td>\n",
       "      <td>0</td>\n",
       "      <td>14</td>\n",
       "      <td>6.076936</td>\n",
       "      <td>-0.064704</td>\n",
       "      <td>0.708712</td>\n",
       "    </tr>\n",
       "    <tr>\n",
       "      <th>...</th>\n",
       "      <td>...</td>\n",
       "      <td>...</td>\n",
       "      <td>...</td>\n",
       "      <td>...</td>\n",
       "      <td>...</td>\n",
       "      <td>...</td>\n",
       "      <td>...</td>\n",
       "      <td>...</td>\n",
       "      <td>...</td>\n",
       "      <td>...</td>\n",
       "      <td>...</td>\n",
       "      <td>...</td>\n",
       "      <td>...</td>\n",
       "      <td>...</td>\n",
       "      <td>...</td>\n",
       "      <td>...</td>\n",
       "      <td>...</td>\n",
       "      <td>...</td>\n",
       "      <td>...</td>\n",
       "      <td>...</td>\n",
       "      <td>...</td>\n",
       "    </tr>\n",
       "    <tr>\n",
       "      <th>599995</th>\n",
       "      <td>patient_62</td>\n",
       "      <td>mi</td>\n",
       "      <td>chunk_6</td>\n",
       "      <td>0.444429</td>\n",
       "      <td>-0.331044</td>\n",
       "      <td>-0.481277</td>\n",
       "      <td>-0.218304</td>\n",
       "      <td>0.030312</td>\n",
       "      <td>0.448964</td>\n",
       "      <td>-0.675623</td>\n",
       "      <td>...</td>\n",
       "      <td>4</td>\n",
       "      <td>0.023826</td>\n",
       "      <td>0.216208</td>\n",
       "      <td>0.971467</td>\n",
       "      <td>-0.125345</td>\n",
       "      <td>0</td>\n",
       "      <td>25</td>\n",
       "      <td>9.713665</td>\n",
       "      <td>-0.007560</td>\n",
       "      <td>1.039202</td>\n",
       "    </tr>\n",
       "    <tr>\n",
       "      <th>599996</th>\n",
       "      <td>patient_62</td>\n",
       "      <td>mi</td>\n",
       "      <td>chunk_7</td>\n",
       "      <td>0.444429</td>\n",
       "      <td>-0.331044</td>\n",
       "      <td>-0.481277</td>\n",
       "      <td>-0.218304</td>\n",
       "      <td>0.030312</td>\n",
       "      <td>0.448964</td>\n",
       "      <td>-0.675623</td>\n",
       "      <td>...</td>\n",
       "      <td>4</td>\n",
       "      <td>0.026536</td>\n",
       "      <td>0.217220</td>\n",
       "      <td>0.961697</td>\n",
       "      <td>-0.126706</td>\n",
       "      <td>0</td>\n",
       "      <td>25</td>\n",
       "      <td>9.393774</td>\n",
       "      <td>-0.004753</td>\n",
       "      <td>0.960889</td>\n",
       "    </tr>\n",
       "    <tr>\n",
       "      <th>599997</th>\n",
       "      <td>patient_62</td>\n",
       "      <td>mi</td>\n",
       "      <td>chunk_8</td>\n",
       "      <td>0.444429</td>\n",
       "      <td>-0.331044</td>\n",
       "      <td>-0.481277</td>\n",
       "      <td>-0.218304</td>\n",
       "      <td>0.030312</td>\n",
       "      <td>0.448964</td>\n",
       "      <td>-0.675623</td>\n",
       "      <td>...</td>\n",
       "      <td>4</td>\n",
       "      <td>0.027458</td>\n",
       "      <td>0.215832</td>\n",
       "      <td>0.954627</td>\n",
       "      <td>-0.114620</td>\n",
       "      <td>0</td>\n",
       "      <td>25</td>\n",
       "      <td>9.423916</td>\n",
       "      <td>-0.004101</td>\n",
       "      <td>0.999539</td>\n",
       "    </tr>\n",
       "    <tr>\n",
       "      <th>599998</th>\n",
       "      <td>patient_62</td>\n",
       "      <td>mi</td>\n",
       "      <td>chunk_9</td>\n",
       "      <td>0.444429</td>\n",
       "      <td>-0.331044</td>\n",
       "      <td>-0.481277</td>\n",
       "      <td>-0.218304</td>\n",
       "      <td>0.030312</td>\n",
       "      <td>0.448964</td>\n",
       "      <td>-0.675623</td>\n",
       "      <td>...</td>\n",
       "      <td>4</td>\n",
       "      <td>0.029441</td>\n",
       "      <td>0.215048</td>\n",
       "      <td>0.953271</td>\n",
       "      <td>-0.114024</td>\n",
       "      <td>0</td>\n",
       "      <td>21</td>\n",
       "      <td>9.433273</td>\n",
       "      <td>-0.001966</td>\n",
       "      <td>0.880451</td>\n",
       "    </tr>\n",
       "    <tr>\n",
       "      <th>599999</th>\n",
       "      <td>patient_62</td>\n",
       "      <td>mi</td>\n",
       "      <td>chunk_10</td>\n",
       "      <td>0.444429</td>\n",
       "      <td>-0.331044</td>\n",
       "      <td>-0.481277</td>\n",
       "      <td>-0.218304</td>\n",
       "      <td>0.030312</td>\n",
       "      <td>0.448964</td>\n",
       "      <td>-0.675623</td>\n",
       "      <td>...</td>\n",
       "      <td>4</td>\n",
       "      <td>0.064417</td>\n",
       "      <td>0.212360</td>\n",
       "      <td>0.967649</td>\n",
       "      <td>-0.096565</td>\n",
       "      <td>0</td>\n",
       "      <td>-4</td>\n",
       "      <td>8.472316</td>\n",
       "      <td>0.034906</td>\n",
       "      <td>1.097648</td>\n",
       "    </tr>\n",
       "  </tbody>\n",
       "</table>\n",
       "<p>540000 rows × 834 columns</p>\n",
       "</div>"
      ],
      "text/plain": [
       "          patient_id label     chunk  acf_I_lag_1  acf_I_lag_2  acf_I_lag_3  \\\n",
       "0       patient_2415    mi   chunk_1     0.331863    -0.415509    -0.444558   \n",
       "1       patient_2415    mi   chunk_2     0.331863    -0.415509    -0.444558   \n",
       "2       patient_2415    mi   chunk_3     0.331863    -0.415509    -0.444558   \n",
       "3       patient_2415    mi   chunk_4     0.331863    -0.415509    -0.444558   \n",
       "4       patient_2415    mi   chunk_5     0.331863    -0.415509    -0.444558   \n",
       "...              ...   ...       ...          ...          ...          ...   \n",
       "599995    patient_62    mi   chunk_6     0.444429    -0.331044    -0.481277   \n",
       "599996    patient_62    mi   chunk_7     0.444429    -0.331044    -0.481277   \n",
       "599997    patient_62    mi   chunk_8     0.444429    -0.331044    -0.481277   \n",
       "599998    patient_62    mi   chunk_9     0.444429    -0.331044    -0.481277   \n",
       "599999    patient_62    mi  chunk_10     0.444429    -0.331044    -0.481277   \n",
       "\n",
       "        acf_I_lag_4  acf_I_lag_5  pacf_I_lag_1  pacf_I_lag_2  ...  \\\n",
       "0         -0.117246     0.195589      0.335249     -0.604397  ...   \n",
       "1         -0.117246     0.195589      0.335249     -0.604397  ...   \n",
       "2         -0.117246     0.195589      0.335249     -0.604397  ...   \n",
       "3         -0.117246     0.195589      0.335249     -0.604397  ...   \n",
       "4         -0.117246     0.195589      0.335249     -0.604397  ...   \n",
       "...             ...          ...           ...           ...  ...   \n",
       "599995    -0.218304     0.030312      0.448964     -0.675623  ...   \n",
       "599996    -0.218304     0.030312      0.448964     -0.675623  ...   \n",
       "599997    -0.218304     0.030312      0.448964     -0.675623  ...   \n",
       "599998    -0.218304     0.030312      0.448964     -0.675623  ...   \n",
       "599999    -0.218304     0.030312      0.448964     -0.675623  ...   \n",
       "\n",
       "        n_cruces_cero_V5_V6  promedio_V5_V6  std_V5_V6  max_V5_V6  min_V5_V6  \\\n",
       "0                         2       -0.023925   0.230732   0.963066  -0.184184   \n",
       "1                         5       -0.056055   0.232134   0.955720  -0.233830   \n",
       "2                         2       -0.075253   0.233178   0.871191  -0.257949   \n",
       "3                         4       -0.124307   0.145294   0.400326  -0.255581   \n",
       "4                         3       -0.042716   0.187405   0.712868  -0.227489   \n",
       "...                     ...             ...        ...        ...        ...   \n",
       "599995                    4        0.023826   0.216208   0.971467  -0.125345   \n",
       "599996                    4        0.026536   0.217220   0.961697  -0.126706   \n",
       "599997                    4        0.027458   0.215832   0.954627  -0.114620   \n",
       "599998                    4        0.029441   0.215048   0.953271  -0.114024   \n",
       "599999                    4        0.064417   0.212360   0.967649  -0.096565   \n",
       "\n",
       "        maxlag_V5_V6  minlag_V5_V6  kurtosis_V5_V6  trim_mean_V5_V6  norm_ccf  \n",
       "0                  0            15        8.965145        -0.056371  0.585239  \n",
       "1                  0            19        8.501799        -0.087853  0.756792  \n",
       "2                  0           -13        7.329390        -0.105983  0.655799  \n",
       "3                  0           -10        3.055412        -0.139548  1.034301  \n",
       "4                  0            14        6.076936        -0.064704  0.708712  \n",
       "...              ...           ...             ...              ...       ...  \n",
       "599995             0            25        9.713665        -0.007560  1.039202  \n",
       "599996             0            25        9.393774        -0.004753  0.960889  \n",
       "599997             0            25        9.423916        -0.004101  0.999539  \n",
       "599998             0            21        9.433273        -0.001966  0.880451  \n",
       "599999             0            -4        8.472316         0.034906  1.097648  \n",
       "\n",
       "[540000 rows x 834 columns]"
      ]
     },
     "execution_count": 32,
     "metadata": {},
     "output_type": "execute_result"
    }
   ],
   "source": [
    "df_mi_train"
   ]
  },
  {
   "cell_type": "code",
   "execution_count": null,
   "metadata": {},
   "outputs": [],
   "source": []
  },
  {
   "cell_type": "code",
   "execution_count": null,
   "metadata": {},
   "outputs": [],
   "source": []
  },
  {
   "cell_type": "code",
   "execution_count": 14,
   "metadata": {},
   "outputs": [],
   "source": [
    "patients_mi = pd.DataFrame({'patient_id' : df_mi.keys(),\n",
    "             'class' : \"mi\",\n",
    "             \"class_id\" : 0})\n",
    "patients_sttc_mi = pd.DataFrame({'patient_id' : df_sttc_mi.keys(),\n",
    "             'class' : \"sttc_mi\",\n",
    "             \"class_id\" : 1})\n",
    "patients_sttc = pd.DataFrame({'patient_id' : df_sttc.keys(),\n",
    "             'class' : \"sttc\",\n",
    "             \"class_id\" : 2})\n",
    "patients_other = pd.DataFrame({'patient_id' : df_other.keys(),\n",
    "             'class' : \"other\",\n",
    "             \"class_id\" : 3})\n",
    "\n",
    "patients_classes = pd.concat([patients_mi, patients_sttc_mi, patients_sttc, patients_other], axis=0)"
   ]
  },
  {
   "cell_type": "markdown",
   "metadata": {},
   "source": [
    "## Split Train Test Val"
   ]
  },
  {
   "cell_type": "code",
   "execution_count": 45,
   "metadata": {},
   "outputs": [],
   "source": [
    "df_mi_peak_val.to_csv(\"output/features/val/mi_peak.csv\", index = False)\n",
    "df_sttc_mi_peak_val.to_csv(\"output/features/val/sttc_mi_peak.csv\", index = False)\n",
    "df_sttc_peak_val.to_csv(\"output/features/val/sttc_peak.csv\", index = False)\n",
    "df_other_peak_val.to_csv(\"output/features/val/other_peak.csv\", index = False)"
   ]
  },
  {
   "cell_type": "markdown",
   "metadata": {},
   "source": [
    "#### Cross Correlation features"
   ]
  },
  {
   "cell_type": "markdown",
   "metadata": {},
   "source": [
    "Correlaciones cruzadas\n",
    "* Promedio de correlaciones por combinación.\n",
    "* Desviación estándar de las correlaciones por combinación.\n",
    "* Máxima y mínima correlación por combinación.\n",
    "* Lag de la máxima correlación por combinación.\n",
    "* Kurtosis.\n",
    "* Promedio de todas las autocorrelaciones de la matriz.\n",
    "* Norma de la matriz.\n",
    "* Número de cruces por cero."
   ]
  },
  {
   "cell_type": "code",
   "execution_count": 46,
   "metadata": {},
   "outputs": [],
   "source": [
    "df_mi_ccf_val = patients_dict_ccf(df_mi_val, all_combinaciones)\n",
    "df_sttc_mi_ccf_val = patients_dict_ccf(df_sttc_mi_val, all_combinaciones)\n",
    "df_sttc_ccf_val = patients_dict_ccf(df_sttc_val, all_combinaciones)\n",
    "df_other_ccf_val = patients_dict_ccf(df_other_val, all_combinaciones)"
   ]
  },
  {
   "cell_type": "code",
   "execution_count": null,
   "metadata": {},
   "outputs": [],
   "source": [
    "df_mi_ccf_stats_val = get_dict_ccf_summary(df_mi_ccf_val, dict_combinaciones,)\n",
    "df_sttc_mi_ccf_stats_val = get_dict_ccf_summary(df_sttc_mi_ccf_val, dict_combinaciones,)\n",
    "df_sttc_ccf_stats_val = get_dict_ccf_summary(df_sttc_ccf_val, dict_combinaciones,)\n",
    "df_other_ccf_stats_val = get_dict_ccf_summary(df_other_ccf_val, dict_combinaciones,)"
   ]
  },
  {
   "cell_type": "code",
   "execution_count": null,
   "metadata": {},
   "outputs": [],
   "source": [
    "df_mi_ccf_stats_val.to_csv(\"output/features/val/mi_ccf_stats.csv\", index = False)\n",
    "df_sttc_mi_ccf_stats_val.to_csv(\"output/features/val/sttc_mi_ccf_stats.csv\", index = False)\n",
    "df_sttc_ccf_stats_val.to_csv(\"output/features/val/sttc_ccf_stats.csv\", index = False)\n",
    "df_other_ccf_stats_val.to_csv(\"output/features/val/other_ccf_stats.csv\", index = False)"
   ]
  }
 ],
 "metadata": {
  "kernelspec": {
   "display_name": "mcd_venv",
   "language": "python",
   "name": "python3"
  },
  "language_info": {
   "codemirror_mode": {
    "name": "ipython",
    "version": 3
   },
   "file_extension": ".py",
   "mimetype": "text/x-python",
   "name": "python",
   "nbconvert_exporter": "python",
   "pygments_lexer": "ipython3",
   "version": "3.12.7"
  }
 },
 "nbformat": 4,
 "nbformat_minor": 2
}
