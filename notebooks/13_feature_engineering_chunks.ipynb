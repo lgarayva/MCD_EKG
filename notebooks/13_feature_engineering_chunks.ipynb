{
 "cells": [
  {
   "cell_type": "markdown",
   "metadata": {},
   "source": [
    "## <a id = '0'> Índice </a>\n",
    "\n",
    "* [**Entorno**](#1)  \n",
    "   * [Librerías](#1d1)  \n",
    "   * [Funciones](#1d2)  \n",
    "   * [Constantes](#1d3)\n",
    "\n",
    "* [**Lectura de datos**](#2)\n"
   ]
  },
  {
   "cell_type": "markdown",
   "metadata": {},
   "source": [
    "## <a id = '1'> Entorno </a>\n",
    "[índice](#0)"
   ]
  },
  {
   "cell_type": "markdown",
   "metadata": {},
   "source": [
    "### <a id = '1d1'> Librerías </a>"
   ]
  },
  {
   "cell_type": "code",
   "execution_count": 1,
   "metadata": {},
   "outputs": [],
   "source": [
    "import os\n",
    "import pandas as pd\n",
    "import numpy as np\n",
    "\n",
    "import math\n",
    "import itertools\n",
    "# from config import data_folder\n",
    "\n",
    "from scipy.stats import kurtosis, trim_mean\n"
   ]
  },
  {
   "cell_type": "code",
   "execution_count": 2,
   "metadata": {},
   "outputs": [],
   "source": [
    "os.chdir(\"../\")"
   ]
  },
  {
   "cell_type": "markdown",
   "metadata": {},
   "source": [
    "### <a id = '1d2'> Funciones </a>"
   ]
  },
  {
   "cell_type": "code",
   "execution_count": 3,
   "metadata": {},
   "outputs": [],
   "source": [
    "from src.utils import (lectura_carpetas_dict\n",
    "                       , split_dataframe_into_chunks\n",
    "                       , genera_df_acf_pacf_chunk\n",
    "                       , get_dict_serie_summary_chunk\n",
    "                       , patients_dict_ccf_chunk\n",
    "                       , get_ccf_summary_chunk\n",
    "                       )"
   ]
  },
  {
   "cell_type": "markdown",
   "metadata": {},
   "source": [
    "### <a id = '1d3'> Constantes </a>"
   ]
  },
  {
   "cell_type": "code",
   "execution_count": 4,
   "metadata": {},
   "outputs": [],
   "source": [
    "from config.cons import data_folder, list_signals"
   ]
  },
  {
   "cell_type": "markdown",
   "metadata": {},
   "source": [
    "## <a id = '2'> Lectura de datos </a>\n",
    "[índice](#0)"
   ]
  },
  {
   "cell_type": "code",
   "execution_count": 5,
   "metadata": {},
   "outputs": [],
   "source": [
    "proyect_path = os.getcwd()\n",
    "data_path = proyect_path + data_folder"
   ]
  },
  {
   "cell_type": "code",
   "execution_count": 6,
   "metadata": {},
   "outputs": [],
   "source": [
    "# all_combinaciones = list(itertools.combinations(list_signals, 2))\n",
    "all_combinaciones = list(itertools.combinations_with_replacement(list_signals, 2))\n"
   ]
  },
  {
   "cell_type": "code",
   "execution_count": 7,
   "metadata": {},
   "outputs": [],
   "source": [
    "uni_combinacion = []\n",
    "bi_combinacion = []\n",
    "for col1, col2 in all_combinaciones:\n",
    "    if col1 == col2:\n",
    "        uni_combinacion.append(col1)\n",
    "    else:\n",
    "        bi_combinacion.append(col1 + \"_\" + col2)\n",
    "dict_combinaciones = {\n",
    "    \"uni_combinacion\": uni_combinacion,\n",
    "    \"bi_combinacion\": bi_combinacion\n",
    "}   "
   ]
  },
  {
   "cell_type": "code",
   "execution_count": 8,
   "metadata": {},
   "outputs": [],
   "source": [
    "df_all = lectura_carpetas_dict(data_path)"
   ]
  },
  {
   "cell_type": "code",
   "execution_count": 9,
   "metadata": {},
   "outputs": [],
   "source": [
    "df_mi = df_all[\"mi\"]\n",
    "df_sttc_mi = df_all[\"sttc_mi\"]\n",
    "df_sttc = df_all[\"sttc\"]\n",
    "df_other = df_all[\"other\"]"
   ]
  },
  {
   "cell_type": "code",
   "execution_count": 10,
   "metadata": {},
   "outputs": [],
   "source": [
    "dict_mi = {patient: split_dataframe_into_chunks(df_mi[patient], 100) for patient in df_mi.keys()}\n",
    "df_mi_acf_pacf = genera_df_acf_pacf_chunk(dict_mi, list_signals, apply_diff=True)\n",
    "df_mi_peak = get_dict_serie_summary_chunk(dict_mi, list_signals, period = 10, n_std = 1)\n",
    "df_mi_ccf = patients_dict_ccf_chunk(dict_mi, all_combinaciones, max_lag=25)\n",
    "mi_cff_features = get_ccf_summary_chunk(df_mi_ccf, dict_combinaciones, proportion_to_cut = 0.05)"
   ]
  },
  {
   "cell_type": "code",
   "execution_count": 15,
   "metadata": {},
   "outputs": [],
   "source": [
    "df_mi_features = (\n",
    "    df_mi_acf_pacf\n",
    "    .merge(df_mi_peak, on=[\"patient_id\", \"label\", \"chunk\"], how=\"inner\")\n",
    "    .merge(mi_cff_features, on=[\"patient_id\", \"label\", \"chunk\"], how=\"inner\")\n",
    ")\n",
    "\n",
    "cols = ['patient_id', 'label', 'chunk'] + [col for col in df_mi_features.columns if col not in ('patient_id', 'label', 'chunk')]\n",
    "\n",
    "df_mi_features = df_mi_features[cols]"
   ]
  },
  {
   "cell_type": "code",
   "execution_count": 18,
   "metadata": {},
   "outputs": [],
   "source": [
    "df_mi_features.to_csv(\"output/chunk_data/chunk_100/features/mi_features.csv\", index=False)"
   ]
  },
  {
   "cell_type": "code",
   "execution_count": 19,
   "metadata": {},
   "outputs": [],
   "source": [
    "del dict_mi, df_mi_acf_pacf, df_mi_peak, mi_cff_features"
   ]
  },
  {
   "cell_type": "code",
   "execution_count": 20,
   "metadata": {},
   "outputs": [],
   "source": [
    "dict_sttc_mi = {patient: split_dataframe_into_chunks(df_sttc_mi[patient], 100) for patient in df_sttc_mi.keys()}\n",
    "df_sttc_mi_acf_pacf = genera_df_acf_pacf_chunk(dict_sttc_mi, list_signals, apply_diff=True)\n",
    "df_sttc_mi_peak = get_dict_serie_summary_chunk(dict_sttc_mi, list_signals, period = 10, n_std = 1)\n",
    "df_sttc_mi_ccf = patients_dict_ccf_chunk(dict_sttc_mi, all_combinaciones, max_lag=25)\n",
    "sttc_mi_cff_features = get_ccf_summary_chunk(df_sttc_mi_ccf, dict_combinaciones, proportion_to_cut = 0.05)"
   ]
  },
  {
   "cell_type": "code",
   "execution_count": 21,
   "metadata": {},
   "outputs": [],
   "source": [
    "df_sttc_mi_features = (\n",
    "    df_sttc_mi_acf_pacf\n",
    "    .merge(df_sttc_mi_peak, on=[\"patient_id\", \"label\", \"chunk\"], how=\"inner\")\n",
    "    .merge(sttc_mi_cff_features, on=[\"patient_id\", \"label\", \"chunk\"], how=\"inner\")\n",
    ")\n",
    "\n",
    "cols = ['patient_id', 'label', 'chunk'] + [col for col in df_sttc_mi_features.columns if col not in ('patient_id', 'label', 'chunk')]\n",
    "\n",
    "df_sttc_mi_features = df_sttc_mi_features[cols]"
   ]
  },
  {
   "cell_type": "code",
   "execution_count": 22,
   "metadata": {},
   "outputs": [],
   "source": [
    "df_sttc_mi_features.to_csv(\"output/chunk_data/chunk_100/features/sttc_mi_features.csv\", index=False)\n"
   ]
  },
  {
   "cell_type": "code",
   "execution_count": 29,
   "metadata": {},
   "outputs": [],
   "source": [
    "del dict_sttc_mi, df_sttc_mi_acf_pacf, df_sttc_mi_peak, df_sttc_mi_ccf"
   ]
  },
  {
   "cell_type": "code",
   "execution_count": 52,
   "metadata": {},
   "outputs": [],
   "source": [
    "dict_sttc = {patient: split_dataframe_into_chunks(df_sttc[patient], 100) for patient in df_sttc.keys()}\n",
    "df_sttc_acf_pacf = genera_df_acf_pacf_chunk(dict_sttc, list_signals, apply_diff=True)\n",
    "df_sttc_peak = get_dict_serie_summary_chunk(dict_sttc, list_signals, period = 10, n_std = 1)\n",
    "df_sttc_ccf = patients_dict_ccf_chunk(dict_sttc, all_combinaciones, max_lag=25)\n",
    "sttc_cff_features = get_ccf_summary_chunk(df_sttc_ccf, dict_combinaciones, proportion_to_cut = 0.05)"
   ]
  },
  {
   "cell_type": "code",
   "execution_count": 53,
   "metadata": {},
   "outputs": [],
   "source": [
    "df_sttc_features = (\n",
    "    df_sttc_acf_pacf\n",
    "    .merge(df_sttc_peak, on=[\"patient_id\", \"label\", 'chunk'], how=\"inner\")\n",
    "    .merge(sttc_cff_features, on=[\"patient_id\", \"label\", 'chunk'], how=\"inner\")\n",
    ")\n",
    "\n",
    "cols = ['patient_id', 'label', 'chunk'] + [col for col in df_sttc_features.columns if col not in ('patient_id', 'label', 'chunk')]\n",
    "\n",
    "df_sttc_features = df_sttc_features[cols]"
   ]
  },
  {
   "cell_type": "code",
   "execution_count": 54,
   "metadata": {},
   "outputs": [],
   "source": [
    "df_sttc_features.to_csv(\"output/chunk_data/chunk_100/features/sttc_features.csv\", index=False)"
   ]
  },
  {
   "cell_type": "code",
   "execution_count": 30,
   "metadata": {},
   "outputs": [],
   "source": [
    "del dict_sttc, df_sttc_acf_pacf, df_sttc_peak, sttc_cff_features"
   ]
  },
  {
   "cell_type": "code",
   "execution_count": 58,
   "metadata": {},
   "outputs": [],
   "source": [
    "dict_other = {patient: split_dataframe_into_chunks(df_other[patient], 100) for patient in df_other.keys()}\n",
    "df_other_acf_pacf = genera_df_acf_pacf_chunk(dict_other, list_signals, apply_diff=True)\n",
    "df_other_peak = get_dict_serie_summary_chunk(dict_other, list_signals, period = 10, n_std = 1)\n",
    "df_other_ccf = patients_dict_ccf_chunk(dict_other, all_combinaciones, max_lag=25)\n",
    "other_cff_features = get_ccf_summary_chunk(df_other_ccf, dict_combinaciones, proportion_to_cut = 0.05)"
   ]
  },
  {
   "cell_type": "code",
   "execution_count": 62,
   "metadata": {},
   "outputs": [],
   "source": [
    "df_other_features = (\n",
    "    df_other_acf_pacf\n",
    "    .merge(df_other_peak, on=[\"patient_id\", \"label\", 'chunk'], how=\"inner\")\n",
    "    .merge(other_cff_features, on=[\"patient_id\", \"label\", 'chunk'], how=\"inner\")\n",
    ")\n",
    "\n",
    "cols = ['patient_id', 'label', 'chunk'] + [col for col in df_other_features.columns if col not in ('patient_id', 'label', 'chunk')]\n",
    "\n",
    "df_other_features = df_other_features[cols]"
   ]
  },
  {
   "cell_type": "code",
   "execution_count": 63,
   "metadata": {},
   "outputs": [],
   "source": [
    "df_other_features.to_csv(\"output/chunk_data/chunk_100/features/other_features.csv\", index=False)"
   ]
  },
  {
   "cell_type": "code",
   "execution_count": 31,
   "metadata": {},
   "outputs": [],
   "source": [
    "del dict_other, df_other_acf_pacf, df_other_peak, other_cff_features"
   ]
  },
  {
   "cell_type": "code",
   "execution_count": 41,
   "metadata": {},
   "outputs": [],
   "source": [
    "df_mi_features = pd.read_csv(\"output/chunk_data/chunk_100/features/mi_features.csv\")\n",
    "df_sttc_mi_features = pd.read_csv(\"output/chunk_data/chunk_100/features/sttc_mi_features.csv\")\n",
    "df_sttc_features = pd.read_csv(\"output/chunk_data/chunk_100/features/sttc_features.csv\")\n",
    "df_other_features = pd.read_csv(\"output/chunk_data/chunk_100/features/other_features.csv\")"
   ]
  },
  {
   "cell_type": "code",
   "execution_count": 55,
   "metadata": {},
   "outputs": [
    {
     "data": {
      "text/html": [
       "<div>\n",
       "<style scoped>\n",
       "    .dataframe tbody tr th:only-of-type {\n",
       "        vertical-align: middle;\n",
       "    }\n",
       "\n",
       "    .dataframe tbody tr th {\n",
       "        vertical-align: top;\n",
       "    }\n",
       "\n",
       "    .dataframe thead th {\n",
       "        text-align: right;\n",
       "    }\n",
       "</style>\n",
       "<table border=\"1\" class=\"dataframe\">\n",
       "  <thead>\n",
       "    <tr style=\"text-align: right;\">\n",
       "      <th></th>\n",
       "      <th>patient_id</th>\n",
       "      <th>label</th>\n",
       "      <th>chunk</th>\n",
       "      <th>acf_I_lag_1</th>\n",
       "      <th>acf_I_lag_2</th>\n",
       "      <th>acf_I_lag_3</th>\n",
       "      <th>acf_I_lag_4</th>\n",
       "      <th>acf_I_lag_5</th>\n",
       "      <th>pacf_I_lag_1</th>\n",
       "      <th>pacf_I_lag_2</th>\n",
       "      <th>...</th>\n",
       "      <th>n_cruces_cero_V5_V6</th>\n",
       "      <th>promedio_V5_V6</th>\n",
       "      <th>std_V5_V6</th>\n",
       "      <th>max_V5_V6</th>\n",
       "      <th>min_V5_V6</th>\n",
       "      <th>maxlag_V5_V6</th>\n",
       "      <th>minlag_V5_V6</th>\n",
       "      <th>kurtosis_V5_V6</th>\n",
       "      <th>trim_mean_V5_V6</th>\n",
       "      <th>norm_ccf</th>\n",
       "    </tr>\n",
       "  </thead>\n",
       "  <tbody>\n",
       "    <tr>\n",
       "      <th>0</th>\n",
       "      <td>patient_213</td>\n",
       "      <td>other</td>\n",
       "      <td>chunk_1</td>\n",
       "      <td>0.370827</td>\n",
       "      <td>-0.355913</td>\n",
       "      <td>-0.34677</td>\n",
       "      <td>-0.137494</td>\n",
       "      <td>-0.020231</td>\n",
       "      <td>0.374611</td>\n",
       "      <td>-0.585791</td>\n",
       "      <td>...</td>\n",
       "      <td>6</td>\n",
       "      <td>0.157480</td>\n",
       "      <td>0.208917</td>\n",
       "      <td>0.879583</td>\n",
       "      <td>-0.069761</td>\n",
       "      <td>0</td>\n",
       "      <td>10</td>\n",
       "      <td>2.018088</td>\n",
       "      <td>0.138784</td>\n",
       "      <td>1.556835</td>\n",
       "    </tr>\n",
       "    <tr>\n",
       "      <th>1</th>\n",
       "      <td>patient_213</td>\n",
       "      <td>other</td>\n",
       "      <td>chunk_2</td>\n",
       "      <td>0.370827</td>\n",
       "      <td>-0.355913</td>\n",
       "      <td>-0.34677</td>\n",
       "      <td>-0.137494</td>\n",
       "      <td>-0.020231</td>\n",
       "      <td>0.374611</td>\n",
       "      <td>-0.585791</td>\n",
       "      <td>...</td>\n",
       "      <td>3</td>\n",
       "      <td>0.098584</td>\n",
       "      <td>0.205135</td>\n",
       "      <td>0.899276</td>\n",
       "      <td>-0.071251</td>\n",
       "      <td>0</td>\n",
       "      <td>19</td>\n",
       "      <td>4.831864</td>\n",
       "      <td>0.074282</td>\n",
       "      <td>0.666785</td>\n",
       "    </tr>\n",
       "    <tr>\n",
       "      <th>2</th>\n",
       "      <td>patient_213</td>\n",
       "      <td>other</td>\n",
       "      <td>chunk_3</td>\n",
       "      <td>0.370827</td>\n",
       "      <td>-0.355913</td>\n",
       "      <td>-0.34677</td>\n",
       "      <td>-0.137494</td>\n",
       "      <td>-0.020231</td>\n",
       "      <td>0.374611</td>\n",
       "      <td>-0.585791</td>\n",
       "      <td>...</td>\n",
       "      <td>8</td>\n",
       "      <td>0.024836</td>\n",
       "      <td>0.217150</td>\n",
       "      <td>0.864443</td>\n",
       "      <td>-0.188577</td>\n",
       "      <td>0</td>\n",
       "      <td>-25</td>\n",
       "      <td>5.808757</td>\n",
       "      <td>-0.000641</td>\n",
       "      <td>1.619320</td>\n",
       "    </tr>\n",
       "    <tr>\n",
       "      <th>3</th>\n",
       "      <td>patient_213</td>\n",
       "      <td>other</td>\n",
       "      <td>chunk_4</td>\n",
       "      <td>0.370827</td>\n",
       "      <td>-0.355913</td>\n",
       "      <td>-0.34677</td>\n",
       "      <td>-0.137494</td>\n",
       "      <td>-0.020231</td>\n",
       "      <td>0.374611</td>\n",
       "      <td>-0.585791</td>\n",
       "      <td>...</td>\n",
       "      <td>6</td>\n",
       "      <td>0.038183</td>\n",
       "      <td>0.222174</td>\n",
       "      <td>0.882733</td>\n",
       "      <td>-0.180917</td>\n",
       "      <td>0</td>\n",
       "      <td>25</td>\n",
       "      <td>5.293470</td>\n",
       "      <td>0.012821</td>\n",
       "      <td>1.548094</td>\n",
       "    </tr>\n",
       "    <tr>\n",
       "      <th>4</th>\n",
       "      <td>patient_213</td>\n",
       "      <td>other</td>\n",
       "      <td>chunk_5</td>\n",
       "      <td>0.370827</td>\n",
       "      <td>-0.355913</td>\n",
       "      <td>-0.34677</td>\n",
       "      <td>-0.137494</td>\n",
       "      <td>-0.020231</td>\n",
       "      <td>0.374611</td>\n",
       "      <td>-0.585791</td>\n",
       "      <td>...</td>\n",
       "      <td>4</td>\n",
       "      <td>0.021286</td>\n",
       "      <td>0.212465</td>\n",
       "      <td>0.881119</td>\n",
       "      <td>-0.195572</td>\n",
       "      <td>0</td>\n",
       "      <td>-21</td>\n",
       "      <td>6.512489</td>\n",
       "      <td>-0.004078</td>\n",
       "      <td>1.608042</td>\n",
       "    </tr>\n",
       "  </tbody>\n",
       "</table>\n",
       "<p>5 rows × 834 columns</p>\n",
       "</div>"
      ],
      "text/plain": [
       "    patient_id  label    chunk  acf_I_lag_1  acf_I_lag_2  acf_I_lag_3  \\\n",
       "0  patient_213  other  chunk_1     0.370827    -0.355913     -0.34677   \n",
       "1  patient_213  other  chunk_2     0.370827    -0.355913     -0.34677   \n",
       "2  patient_213  other  chunk_3     0.370827    -0.355913     -0.34677   \n",
       "3  patient_213  other  chunk_4     0.370827    -0.355913     -0.34677   \n",
       "4  patient_213  other  chunk_5     0.370827    -0.355913     -0.34677   \n",
       "\n",
       "   acf_I_lag_4  acf_I_lag_5  pacf_I_lag_1  pacf_I_lag_2  ...  \\\n",
       "0    -0.137494    -0.020231      0.374611     -0.585791  ...   \n",
       "1    -0.137494    -0.020231      0.374611     -0.585791  ...   \n",
       "2    -0.137494    -0.020231      0.374611     -0.585791  ...   \n",
       "3    -0.137494    -0.020231      0.374611     -0.585791  ...   \n",
       "4    -0.137494    -0.020231      0.374611     -0.585791  ...   \n",
       "\n",
       "   n_cruces_cero_V5_V6  promedio_V5_V6  std_V5_V6  max_V5_V6  min_V5_V6  \\\n",
       "0                    6        0.157480   0.208917   0.879583  -0.069761   \n",
       "1                    3        0.098584   0.205135   0.899276  -0.071251   \n",
       "2                    8        0.024836   0.217150   0.864443  -0.188577   \n",
       "3                    6        0.038183   0.222174   0.882733  -0.180917   \n",
       "4                    4        0.021286   0.212465   0.881119  -0.195572   \n",
       "\n",
       "   maxlag_V5_V6  minlag_V5_V6  kurtosis_V5_V6  trim_mean_V5_V6  norm_ccf  \n",
       "0             0            10        2.018088         0.138784  1.556835  \n",
       "1             0            19        4.831864         0.074282  0.666785  \n",
       "2             0           -25        5.808757        -0.000641  1.619320  \n",
       "3             0            25        5.293470         0.012821  1.548094  \n",
       "4             0           -21        6.512489        -0.004078  1.608042  \n",
       "\n",
       "[5 rows x 834 columns]"
      ]
     },
     "execution_count": 55,
     "metadata": {},
     "output_type": "execute_result"
    }
   ],
   "source": [
    "df_other_features.head()"
   ]
  },
  {
   "cell_type": "code",
   "execution_count": 32,
   "metadata": {},
   "outputs": [],
   "source": [
    "patients = pd.read_csv(\"output/split_train_test/patients_90_05_05.csv\").rename(columns={\"patient\": \"patient_id\", \"class\": \"label\"})"
   ]
  },
  {
   "cell_type": "code",
   "execution_count": 33,
   "metadata": {},
   "outputs": [],
   "source": [
    "patients_train = patients[(patients[\"sample\"] == \"train\")][[\"patient_id\", \"label\"]]\n",
    "patients_test = patients[(patients[\"sample\"] == \"test\")][[\"patient_id\", \"label\"]]\n",
    "patients_val = patients[(patients[\"sample\"] == \"validation\")][[\"patient_id\", \"label\"]]"
   ]
  },
  {
   "cell_type": "code",
   "execution_count": 67,
   "metadata": {},
   "outputs": [],
   "source": [
    "df_features = pd.concat([df_mi_features, df_sttc_mi_features, df_sttc_features, df_other_features], axis=0)"
   ]
  },
  {
   "cell_type": "code",
   "execution_count": 70,
   "metadata": {},
   "outputs": [],
   "source": [
    "df_features.to_csv(\"output/chunk_data/chunk_100/features/all_features.csv\", index=False)"
   ]
  },
  {
   "cell_type": "code",
   "execution_count": 36,
   "metadata": {},
   "outputs": [],
   "source": [
    "del df_mi_features, df_sttc_mi_features, df_sttc_features, df_other_features"
   ]
  },
  {
   "cell_type": "code",
   "execution_count": null,
   "metadata": {},
   "outputs": [],
   "source": [
    "df_features = pd.read_csv(\"output/chunk_data/chunk_100/features/all_features.csv\")"
   ]
  },
  {
   "cell_type": "code",
   "execution_count": 74,
   "metadata": {},
   "outputs": [],
   "source": [
    "features_train = df_features.merge(patients_train, on=[\"patient_id\", \"label\"], how=\"inner\")"
   ]
  },
  {
   "cell_type": "code",
   "execution_count": 76,
   "metadata": {},
   "outputs": [],
   "source": [
    "features_train.to_csv(\"output/chunk_data/chunk_100/train_test_val/train_features.csv\", index=False)"
   ]
  },
  {
   "cell_type": "code",
   "execution_count": 77,
   "metadata": {},
   "outputs": [],
   "source": [
    "features_test = df_features.merge(patients_test, on=[\"patient_id\", \"label\"], how=\"inner\")"
   ]
  },
  {
   "cell_type": "code",
   "execution_count": 78,
   "metadata": {},
   "outputs": [],
   "source": [
    "features_test.to_csv(\"output/chunk_data/chunk_100/train_test_val/test_features.csv\", index=False)"
   ]
  },
  {
   "cell_type": "code",
   "execution_count": 79,
   "metadata": {},
   "outputs": [],
   "source": [
    "features_val = df_features.merge(patients_val, on=[\"patient_id\", \"label\"], how=\"inner\")"
   ]
  },
  {
   "cell_type": "code",
   "execution_count": 80,
   "metadata": {},
   "outputs": [],
   "source": [
    "features_val.to_csv(\"output/chunk_data/chunk_100/train_test_val/val_features.csv\", index=False)"
   ]
  },
  {
   "cell_type": "code",
   "execution_count": null,
   "metadata": {},
   "outputs": [],
   "source": []
  },
  {
   "cell_type": "markdown",
   "metadata": {},
   "source": [
    "### Train test val 80 - 10 - 10"
   ]
  },
  {
   "cell_type": "code",
   "execution_count": 81,
   "metadata": {},
   "outputs": [],
   "source": [
    "patients = pd.read_csv(\"output/split_train_test/patients_80_10_10.csv\").rename(columns={\"patient\": \"patient_id\", \"class\": \"label\"})"
   ]
  },
  {
   "cell_type": "code",
   "execution_count": 82,
   "metadata": {},
   "outputs": [],
   "source": [
    "patients_train = patients[(patients[\"sample\"] == \"train\")][[\"patient_id\", \"label\"]]\n",
    "patients_test = patients[(patients[\"sample\"] == \"test\")][[\"patient_id\", \"label\"]]\n",
    "patients_val = patients[(patients[\"sample\"] == \"validation\")][[\"patient_id\", \"label\"]]"
   ]
  },
  {
   "cell_type": "code",
   "execution_count": 83,
   "metadata": {},
   "outputs": [],
   "source": [
    "df_features = pd.read_csv(\"output/chunk_data/chunk_100/features/all_features.csv\")"
   ]
  },
  {
   "cell_type": "code",
   "execution_count": 84,
   "metadata": {},
   "outputs": [],
   "source": [
    "features_train = df_features.merge(patients_train, on=[\"patient_id\", \"label\"], how=\"inner\")\n",
    "features_train.to_csv(\"output/chunk_data/chunk_100/train_test_val/train_features.csv\", index=False)"
   ]
  },
  {
   "cell_type": "code",
   "execution_count": 15,
   "metadata": {},
   "outputs": [
    {
     "data": {
      "text/plain": [
       "(1919000, 834)"
      ]
     },
     "execution_count": 15,
     "metadata": {},
     "output_type": "execute_result"
    }
   ],
   "source": [
    "features_train.shape"
   ]
  },
  {
   "cell_type": "code",
   "execution_count": 85,
   "metadata": {},
   "outputs": [],
   "source": [
    "features_test = df_features.merge(patients_test, on=[\"patient_id\", \"label\"], how=\"inner\")\n",
    "features_test.to_csv(\"output/chunk_data/chunk_100/train_test_val/test_features.csv\", index=False)"
   ]
  },
  {
   "cell_type": "code",
   "execution_count": 86,
   "metadata": {},
   "outputs": [],
   "source": [
    "features_val = df_features.merge(patients_val, on=[\"patient_id\", \"label\"], how=\"inner\")\n",
    "features_val.to_csv(\"output/chunk_data/chunk_100/train_test_val/val_features.csv\", index=False)"
   ]
  }
 ],
 "metadata": {
  "kernelspec": {
   "display_name": "mcd_venv",
   "language": "python",
   "name": "python3"
  },
  "language_info": {
   "codemirror_mode": {
    "name": "ipython",
    "version": 3
   },
   "file_extension": ".py",
   "mimetype": "text/x-python",
   "name": "python",
   "nbconvert_exporter": "python",
   "pygments_lexer": "ipython3",
   "version": "3.12.7"
  }
 },
 "nbformat": 4,
 "nbformat_minor": 2
}
