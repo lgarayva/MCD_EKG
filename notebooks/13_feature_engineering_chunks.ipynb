{
 "cells": [
  {
   "cell_type": "markdown",
   "metadata": {},
   "source": [
    "## <a id = '0'> Índice </a>\n",
    "\n",
    "* [**Entorno**](#1)  \n",
    "   * [Librerías](#1d1)  \n",
    "   * [Funciones](#1d2)  \n",
    "   * [Constantes](#1d3)\n",
    "\n",
    "* [**Lectura de datos**](#2)\n"
   ]
  },
  {
   "cell_type": "markdown",
   "metadata": {},
   "source": [
    "## <a id = '1'> Entorno </a>\n",
    "[índice](#0)"
   ]
  },
  {
   "cell_type": "markdown",
   "metadata": {},
   "source": [
    "### <a id = '1d1'> Librerías </a>"
   ]
  },
  {
   "cell_type": "code",
   "execution_count": 1,
   "metadata": {},
   "outputs": [],
   "source": [
    "import os\n",
    "import pandas as pd\n",
    "import numpy as np\n",
    "\n",
    "import math\n",
    "import itertools\n",
    "# from config import data_folder\n",
    "\n",
    "from scipy.stats import kurtosis, trim_mean\n"
   ]
  },
  {
   "cell_type": "code",
   "execution_count": 2,
   "metadata": {},
   "outputs": [],
   "source": [
    "os.chdir(\"../\")"
   ]
  },
  {
   "cell_type": "markdown",
   "metadata": {},
   "source": [
    "### <a id = '1d2'> Funciones </a>"
   ]
  },
  {
   "cell_type": "code",
   "execution_count": 3,
   "metadata": {},
   "outputs": [],
   "source": [
    "from src.utils import (lectura_carpetas_dict\n",
    "                       , split_dataframe_into_chunks\n",
    "                       , genera_df_acf_pacf_chunk\n",
    "                       , get_dict_serie_summary_chunk\n",
    "                       , patients_dict_ccf_chunk\n",
    "                       , get_ccf_summary_chunk\n",
    "                       )"
   ]
  },
  {
   "cell_type": "markdown",
   "metadata": {},
   "source": [
    "### <a id = '1d3'> Constantes </a>"
   ]
  },
  {
   "cell_type": "code",
   "execution_count": 4,
   "metadata": {},
   "outputs": [],
   "source": [
    "from config.cons import data_folder, list_signals"
   ]
  },
  {
   "cell_type": "markdown",
   "metadata": {},
   "source": [
    "## <a id = '2'> Lectura de datos </a>\n",
    "[índice](#0)"
   ]
  },
  {
   "cell_type": "code",
   "execution_count": 5,
   "metadata": {},
   "outputs": [],
   "source": [
    "proyect_path = os.getcwd()\n",
    "data_path = proyect_path + data_folder"
   ]
  },
  {
   "cell_type": "code",
   "execution_count": 6,
   "metadata": {},
   "outputs": [],
   "source": [
    "# all_combinaciones = list(itertools.combinations(list_signals, 2))\n",
    "all_combinaciones = list(itertools.combinations_with_replacement(list_signals, 2))\n"
   ]
  },
  {
   "cell_type": "code",
   "execution_count": 7,
   "metadata": {},
   "outputs": [],
   "source": [
    "uni_combinacion = []\n",
    "bi_combinacion = []\n",
    "for col1, col2 in all_combinaciones:\n",
    "    if col1 == col2:\n",
    "        uni_combinacion.append(col1)\n",
    "    else:\n",
    "        bi_combinacion.append(col1 + \"_\" + col2)\n",
    "dict_combinaciones = {\n",
    "    \"uni_combinacion\": uni_combinacion,\n",
    "    \"bi_combinacion\": bi_combinacion\n",
    "}   "
   ]
  },
  {
   "cell_type": "code",
   "execution_count": 8,
   "metadata": {},
   "outputs": [],
   "source": [
    "df_all = lectura_carpetas_dict(data_path)"
   ]
  },
  {
   "cell_type": "code",
   "execution_count": 9,
   "metadata": {},
   "outputs": [],
   "source": [
    "df_mi = df_all[\"mi\"]\n",
    "df_sttc_mi = df_all[\"sttc_mi\"]\n",
    "df_sttc = df_all[\"sttc\"]\n",
    "df_other = df_all[\"other\"]"
   ]
  },
  {
   "cell_type": "code",
   "execution_count": 10,
   "metadata": {},
   "outputs": [],
   "source": [
    "dict_mi = {patient: split_dataframe_into_chunks(df_mi[patient], 100) for patient in df_mi.keys()}\n",
    "df_mi_acf_pacf = genera_df_acf_pacf_chunk(dict_mi, list_signals, apply_diff=True)\n",
    "df_mi_peak = get_dict_serie_summary_chunk(dict_mi, list_signals, period = 10, n_std = 1)\n",
    "df_mi_ccf = patients_dict_ccf_chunk(dict_mi, all_combinaciones, max_lag=25)\n",
    "mi_cff_features = get_ccf_summary_chunk(df_mi_ccf, dict_combinaciones, proportion_to_cut = 0.05)"
   ]
  },
  {
   "cell_type": "code",
   "execution_count": 11,
   "metadata": {},
   "outputs": [],
   "source": [
    "df_mi_features = (\n",
    "    df_mi_acf_pacf\n",
    "    .merge(df_mi_peak, on=[\"patient_id\", \"label\"], how=\"inner\")\n",
    "    .merge(mi_cff_features, on=[\"patient_id\", \"label\"], how=\"inner\")\n",
    ")\n",
    "\n",
    "cols = ['patient_id', 'label', 'chunk'] + [col for col in df_mi_features.columns if col not in ('patient_id', 'label', 'chunk')]\n",
    "\n",
    "df_mi_features = df_mi_features[cols]"
   ]
  },
  {
   "cell_type": "code",
   "execution_count": 13,
   "metadata": {},
   "outputs": [],
   "source": [
    "df_mi_features.to_csv(\"output/chunk_data/chunk_100/features/mi_features.csv\", index=False)"
   ]
  },
  {
   "cell_type": "code",
   "execution_count": 14,
   "metadata": {},
   "outputs": [],
   "source": [
    "del dict_mi, df_mi_acf_pacf, df_mi_peak, mi_cff_features"
   ]
  },
  {
   "cell_type": "code",
   "execution_count": 15,
   "metadata": {},
   "outputs": [],
   "source": [
    "dict_sttc_mi = {patient: split_dataframe_into_chunks(df_sttc_mi[patient], 100) for patient in df_sttc_mi.keys()}\n",
    "df_sttc_mi_acf_pacf = genera_df_acf_pacf_chunk(dict_sttc_mi, list_signals, apply_diff=True)\n",
    "df_sttc_mi_peak = get_dict_serie_summary_chunk(dict_sttc_mi, list_signals, period = 10, n_std = 1)\n",
    "df_sttc_mi_ccf = patients_dict_ccf_chunk(dict_sttc_mi, all_combinaciones, max_lag=25)\n",
    "sttc_mi_cff_features = get_ccf_summary_chunk(df_sttc_mi_ccf, dict_combinaciones, proportion_to_cut = 0.05)"
   ]
  },
  {
   "cell_type": "code",
   "execution_count": 16,
   "metadata": {},
   "outputs": [],
   "source": [
    "df_sttc_mi_features = (\n",
    "    df_sttc_mi_acf_pacf\n",
    "    .merge(df_sttc_mi_peak, on=[\"patient_id\", \"label\"], how=\"inner\")\n",
    "    .merge(sttc_mi_cff_features, on=[\"patient_id\", \"label\"], how=\"inner\")\n",
    ")\n",
    "\n",
    "cols = ['patient_id', 'label', 'chunk'] + [col for col in df_sttc_mi_features.columns if col not in ('patient_id', 'label', 'chunk')]\n",
    "\n",
    "df_sttc_mi_features = df_sttc_mi_features[cols]"
   ]
  },
  {
   "cell_type": "code",
   "execution_count": 17,
   "metadata": {},
   "outputs": [],
   "source": [
    "del dict_sttc_mi, df_sttc_mi_acf_pacf, df_sttc_mi_peak, df_sttc_mi_ccf"
   ]
  },
  {
   "cell_type": "code",
   "execution_count": 18,
   "metadata": {},
   "outputs": [],
   "source": [
    "df_sttc_mi_features.to_csv(\"output/chunk_data/chunk_100/features/sttc_mi_features.csv\", index=False)\n"
   ]
  },
  {
   "cell_type": "code",
   "execution_count": 19,
   "metadata": {},
   "outputs": [],
   "source": [
    "dict_sttc = {patient: split_dataframe_into_chunks(df_sttc[patient], 100) for patient in df_sttc.keys()}\n",
    "df_sttc_acf_pacf = genera_df_acf_pacf_chunk(dict_sttc, list_signals, apply_diff=True)\n",
    "df_sttc_peak = get_dict_serie_summary_chunk(dict_sttc, list_signals, period = 10, n_std = 1)\n",
    "df_sttc_ccf = patients_dict_ccf_chunk(dict_sttc, all_combinaciones, max_lag=25)\n",
    "sttc_cff_features = get_ccf_summary_chunk(df_sttc_ccf, dict_combinaciones, proportion_to_cut = 0.05)"
   ]
  },
  {
   "cell_type": "code",
   "execution_count": 20,
   "metadata": {},
   "outputs": [],
   "source": [
    "df_sttc_features = (\n",
    "    df_sttc_acf_pacf\n",
    "    .merge(df_sttc_peak, on=[\"patient_id\", \"label\"], how=\"inner\")\n",
    "    .merge(sttc_cff_features, on=[\"patient_id\", \"label\"], how=\"inner\")\n",
    ")\n",
    "\n",
    "cols = ['patient_id', 'label', 'chunk'] + [col for col in df_sttc_features.columns if col not in ('patient_id', 'label', 'chunk')]\n",
    "\n",
    "df_sttc_features = df_sttc_features[cols]"
   ]
  },
  {
   "cell_type": "code",
   "execution_count": 21,
   "metadata": {},
   "outputs": [],
   "source": [
    "df_sttc_features.to_csv(\"output/chunk_data/chunk_100/features/sttc_features.csv\", index=False)"
   ]
  },
  {
   "cell_type": "code",
   "execution_count": 22,
   "metadata": {},
   "outputs": [],
   "source": [
    "del dict_sttc, df_sttc_acf_pacf, df_sttc_peak, sttc_cff_features"
   ]
  },
  {
   "cell_type": "code",
   "execution_count": 23,
   "metadata": {},
   "outputs": [],
   "source": [
    "dict_other = {patient: split_dataframe_into_chunks(df_other[patient], 100) for patient in df_other.keys()}\n",
    "df_other_acf_pacf = genera_df_acf_pacf_chunk(dict_other, list_signals, apply_diff=True)\n",
    "df_other_peak = get_dict_serie_summary_chunk(dict_other, list_signals, period = 10, n_std = 1)\n",
    "df_other_ccf = patients_dict_ccf_chunk(dict_other, all_combinaciones, max_lag=25)\n",
    "other_cff_features = get_ccf_summary_chunk(df_other_ccf, dict_combinaciones, proportion_to_cut = 0.05)"
   ]
  },
  {
   "cell_type": "code",
   "execution_count": 24,
   "metadata": {},
   "outputs": [],
   "source": [
    "df_other_features = (\n",
    "    df_other_acf_pacf\n",
    "    .merge(df_other_peak, on=[\"patient_id\", \"label\"], how=\"inner\")\n",
    "    .merge(other_cff_features, on=[\"patient_id\", \"label\"], how=\"inner\")\n",
    ")\n",
    "\n",
    "cols = ['patient_id', 'label', 'chunk'] + [col for col in df_other_features.columns if col not in ('patient_id', 'label', 'chunk')]\n",
    "\n",
    "df_other_features = df_other_features[cols]"
   ]
  },
  {
   "cell_type": "code",
   "execution_count": 25,
   "metadata": {},
   "outputs": [],
   "source": [
    "df_other_features.to_csv(\"output/chunk_data/chunk_100/features/other_features.csv\", index=False)"
   ]
  },
  {
   "cell_type": "code",
   "execution_count": 26,
   "metadata": {},
   "outputs": [],
   "source": [
    "del dict_other, df_other_acf_pacf, df_other_peak, other_cff_features"
   ]
  },
  {
   "cell_type": "code",
   "execution_count": null,
   "metadata": {},
   "outputs": [],
   "source": [
    "df_mi_features = pd.read_csv(\"output/chunk_data/chunk_100/features/mi_features.csv\")\n",
    "df_sttc_mi_features = pd.read_csv(\"output/chunk_data/chunk_100/features/sttc_mi_features.csv\")\n",
    "df_sttc_features = pd.read_csv(\"output/chunk_data/chunk_100/features/sttc_features.csv\")\n",
    "df_other_features = pd.read_csv(\"output/chunk_data/chunk_100/features/other_features.csv\")"
   ]
  },
  {
   "cell_type": "code",
   "execution_count": 27,
   "metadata": {},
   "outputs": [],
   "source": [
    "patients = pd.read_csv(\"output/split_train_test/patients_90_05_05.csv\").rename(columns={\"patient\": \"patient_id\", \"class\": \"label\"})"
   ]
  },
  {
   "cell_type": "code",
   "execution_count": 28,
   "metadata": {},
   "outputs": [],
   "source": [
    "patients_train = patients[(patients[\"sample\"] == \"train\")][[\"patient_id\", \"label\"]]\n",
    "patients_test = patients[(patients[\"sample\"] == \"test\")][[\"patient_id\", \"label\"]]\n",
    "patients_val = patients[(patients[\"sample\"] == \"validation\")][[\"patient_id\", \"label\"]]"
   ]
  },
  {
   "cell_type": "code",
   "execution_count": 29,
   "metadata": {},
   "outputs": [],
   "source": [
    "df_features = pd.concat([df_mi_features, df_sttc_mi_features, df_sttc_features, df_other_features], axis=0)"
   ]
  },
  {
   "cell_type": "code",
   "execution_count": 34,
   "metadata": {},
   "outputs": [],
   "source": [
    "df_features.to_csv(\"output/chunk_data/chunk_100/features/all_features.csv\", index=False)"
   ]
  },
  {
   "cell_type": "code",
   "execution_count": 31,
   "metadata": {},
   "outputs": [],
   "source": [
    "del df_mi_features, df_sttc_mi_features, df_sttc_features, df_other_features"
   ]
  },
  {
   "cell_type": "code",
   "execution_count": null,
   "metadata": {},
   "outputs": [],
   "source": [
    "df_features = pd.read_csv(\"output/chunk_data/chunk_100/features/all_features.csv\")"
   ]
  },
  {
   "cell_type": "code",
   "execution_count": 32,
   "metadata": {},
   "outputs": [],
   "source": [
    "features_train = df_features.merge(patients_train, on=[\"patient_id\", \"label\"], how=\"inner\")"
   ]
  },
  {
   "cell_type": "code",
   "execution_count": 35,
   "metadata": {},
   "outputs": [],
   "source": [
    "features_train.to_csv(\"output/chunk_data/chunk_100/train_test_val/train_features.csv\", index=False)"
   ]
  },
  {
   "cell_type": "code",
   "execution_count": 36,
   "metadata": {},
   "outputs": [],
   "source": [
    "features_test = df_features.merge(patients_test, on=[\"patient_id\", \"label\"], how=\"inner\")"
   ]
  },
  {
   "cell_type": "code",
   "execution_count": 37,
   "metadata": {},
   "outputs": [],
   "source": [
    "features_test.to_csv(\"output/chunk_data/chunk_100/train_test_val/test_features.csv\", index=False)"
   ]
  },
  {
   "cell_type": "code",
   "execution_count": 38,
   "metadata": {},
   "outputs": [],
   "source": [
    "features_val = df_features.merge(patients_val, on=[\"patient_id\", \"label\"], how=\"inner\")"
   ]
  },
  {
   "cell_type": "code",
   "execution_count": 39,
   "metadata": {},
   "outputs": [],
   "source": [
    "features_val.to_csv(\"output/chunk_data/chunk_100/train_test_val/val_features.csv\", index=False)"
   ]
  },
  {
   "cell_type": "code",
   "execution_count": null,
   "metadata": {},
   "outputs": [],
   "source": []
  },
  {
   "cell_type": "markdown",
   "metadata": {},
   "source": [
    "### Train test val 80 - 10 - 10"
   ]
  },
  {
   "cell_type": "code",
   "execution_count": 11,
   "metadata": {},
   "outputs": [],
   "source": [
    "patients = pd.read_csv(\"output/split_train_test/patients_80_10_10.csv\").rename(columns={\"patient\": \"patient_id\", \"class\": \"label\"})"
   ]
  },
  {
   "cell_type": "code",
   "execution_count": 12,
   "metadata": {},
   "outputs": [],
   "source": [
    "patients_train = patients[(patients[\"sample\"] == \"train\")][[\"patient_id\", \"label\"]]\n",
    "patients_test = patients[(patients[\"sample\"] == \"test\")][[\"patient_id\", \"label\"]]\n",
    "patients_val = patients[(patients[\"sample\"] == \"validation\")][[\"patient_id\", \"label\"]]"
   ]
  },
  {
   "cell_type": "code",
   "execution_count": 13,
   "metadata": {},
   "outputs": [],
   "source": [
    "df_features = pd.read_csv(\"output/chunk_data/chunk_100/features/all_features.csv\")"
   ]
  },
  {
   "cell_type": "code",
   "execution_count": 14,
   "metadata": {},
   "outputs": [],
   "source": [
    "features_train = df_features.merge(patients_train, on=[\"patient_id\", \"label\"], how=\"inner\")\n",
    "features_train.to_csv(\"output/chunk_data/chunk_100/train_test_val/train_features.csv\", index=False)"
   ]
  },
  {
   "cell_type": "code",
   "execution_count": 15,
   "metadata": {},
   "outputs": [
    {
     "data": {
      "text/plain": [
       "(1919000, 834)"
      ]
     },
     "execution_count": 15,
     "metadata": {},
     "output_type": "execute_result"
    }
   ],
   "source": [
    "features_train.shape"
   ]
  },
  {
   "cell_type": "code",
   "execution_count": 16,
   "metadata": {},
   "outputs": [],
   "source": [
    "features_test = df_features.merge(patients_test, on=[\"patient_id\", \"label\"], how=\"inner\")\n",
    "features_test.to_csv(\"output/chunk_data/chunk_100/train_test_val/test_features.csv\", index=False)"
   ]
  },
  {
   "cell_type": "code",
   "execution_count": 17,
   "metadata": {},
   "outputs": [],
   "source": [
    "features_val = df_features.merge(patients_val, on=[\"patient_id\", \"label\"], how=\"inner\")\n",
    "features_val.to_csv(\"output/chunk_data/chunk_100/train_test_val/val_features.csv\", index=False)"
   ]
  }
 ],
 "metadata": {
  "kernelspec": {
   "display_name": "MCD_venv",
   "language": "python",
   "name": "python3"
  },
  "language_info": {
   "codemirror_mode": {
    "name": "ipython",
    "version": 3
   },
   "file_extension": ".py",
   "mimetype": "text/x-python",
   "name": "python",
   "nbconvert_exporter": "python",
   "pygments_lexer": "ipython3",
   "version": "3.11.9"
  }
 },
 "nbformat": 4,
 "nbformat_minor": 2
}
