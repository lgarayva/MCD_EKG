{
 "cells": [
  {
   "cell_type": "markdown",
   "metadata": {},
   "source": [
    "## <a id = '0'> Índice </a>\n",
    "\n",
    "* [**Entorno**](#1)  \n",
    "   * [Librerías](#1d1)  \n",
    "   * [Funciones](#1d2)  \n",
    "   * [Constantes](#1d3)\n",
    "\n",
    "* [**Lectura de datos**](#2)\n"
   ]
  },
  {
   "cell_type": "markdown",
   "metadata": {},
   "source": [
    "## <a id = '1'> Entorno </a>\n",
    "[índice](#0)"
   ]
  },
  {
   "cell_type": "markdown",
   "metadata": {},
   "source": [
    "### <a id = '1d1'> Librerías </a>"
   ]
  },
  {
   "cell_type": "code",
   "execution_count": 1,
   "metadata": {},
   "outputs": [],
   "source": [
    "import os\n",
    "import pandas as pd\n",
    "import numpy as np"
   ]
  },
  {
   "cell_type": "code",
   "execution_count": 2,
   "metadata": {},
   "outputs": [],
   "source": [
    "os.chdir(\"../\")"
   ]
  },
  {
   "cell_type": "markdown",
   "metadata": {},
   "source": [
    "### <a id = '1d2'> Funciones </a>"
   ]
  },
  {
   "cell_type": "code",
   "execution_count": 3,
   "metadata": {},
   "outputs": [],
   "source": [
    "from src.utils import lectura_carpetas_dict, dict_to_dataframe, patient_to_chunk"
   ]
  },
  {
   "cell_type": "markdown",
   "metadata": {},
   "source": [
    "### <a id = '1d3'> Constantes </a>"
   ]
  },
  {
   "cell_type": "code",
   "execution_count": 4,
   "metadata": {},
   "outputs": [],
   "source": [
    "from config.cons import data_folder, list_signals"
   ]
  },
  {
   "cell_type": "markdown",
   "metadata": {},
   "source": [
    "## <a id = '2'> Lectura de datos </a>\n",
    "[índice](#0)"
   ]
  },
  {
   "cell_type": "code",
   "execution_count": 5,
   "metadata": {},
   "outputs": [],
   "source": [
    "proyect_path = os.getcwd()\n",
    "data_path = proyect_path + data_folder"
   ]
  },
  {
   "cell_type": "code",
   "execution_count": 6,
   "metadata": {},
   "outputs": [],
   "source": [
    "df_all = lectura_carpetas_dict(data_path)"
   ]
  },
  {
   "cell_type": "code",
   "execution_count": 7,
   "metadata": {},
   "outputs": [],
   "source": [
    "df_mi = df_all[\"mi\"]\n",
    "df_sttc_mi = df_all[\"sttc_mi\"]\n",
    "df_sttc = df_all[\"sttc\"]\n",
    "df_other = df_all[\"other\"]"
   ]
  },
  {
   "cell_type": "code",
   "execution_count": 8,
   "metadata": {},
   "outputs": [],
   "source": [
    "chunk_size = 100\n",
    "df_mi_chunks = dict_to_dataframe(patient_to_chunk(df_mi, list_signals, chunk_size))\n",
    "df_sttc_chunks = dict_to_dataframe(patient_to_chunk(df_sttc, list_signals, chunk_size))\n",
    "df_sttc_mi_chunks = dict_to_dataframe(patient_to_chunk(df_sttc_mi, list_signals, chunk_size))\n",
    "df_other_chunks = dict_to_dataframe(patient_to_chunk(df_other, list_signals, chunk_size))\n"
   ]
  },
  {
   "cell_type": "code",
   "execution_count": 12,
   "metadata": {},
   "outputs": [],
   "source": [
    "os.makedirs(f\"output/chunk_data/chunk_{chunk_size}\", exist_ok=True)"
   ]
  },
  {
   "cell_type": "code",
   "execution_count": 13,
   "metadata": {},
   "outputs": [],
   "source": [
    "df_mi_chunks.to_csv(\n",
    "    f\"output/chunk_data/chunk_{chunk_size}/mi_chunks.csv\",\n",
    "    index=False,\n",
    ")\n",
    "df_sttc_chunks.to_csv(\n",
    "    f\"output/chunk_data/chunk_{chunk_size}/sttc_chunks.csv\",\n",
    "    index=False,\n",
    ")\n",
    "df_sttc_mi_chunks.to_csv(\n",
    "    f\"output/chunk_data/chunk_{chunk_size}/sttc_mi_chunks.csv\",\n",
    "    index=False,\n",
    ")\n",
    "df_other_chunks.to_csv(\n",
    "    f\"output/chunk_data/chunk_{chunk_size}/other_chunks.csv\",\n",
    "    index=False,\n",
    ")"
   ]
  },
  {
   "cell_type": "code",
   "execution_count": 14,
   "metadata": {},
   "outputs": [],
   "source": [
    "del df_mi_chunks, df_sttc_chunks, df_sttc_mi_chunks, df_other_chunks, chunk_size"
   ]
  },
  {
   "cell_type": "code",
   "execution_count": 15,
   "metadata": {},
   "outputs": [],
   "source": [
    "chunk_size = 5\n",
    "df_mi_chunks = dict_to_dataframe(patient_to_chunk(df_mi, list_signals, chunk_size))\n",
    "df_sttc_chunks = dict_to_dataframe(patient_to_chunk(df_sttc, list_signals, chunk_size))\n",
    "df_sttc_mi_chunks = dict_to_dataframe(patient_to_chunk(df_sttc_mi, list_signals, chunk_size))\n",
    "df_other_chunks = dict_to_dataframe(patient_to_chunk(df_other, list_signals, chunk_size))"
   ]
  },
  {
   "cell_type": "code",
   "execution_count": 16,
   "metadata": {},
   "outputs": [],
   "source": [
    "os.makedirs(f\"output/chunk_data/chunk_{chunk_size}\", exist_ok=True)"
   ]
  },
  {
   "cell_type": "code",
   "execution_count": 17,
   "metadata": {},
   "outputs": [],
   "source": [
    "df_mi_chunks.to_csv(\n",
    "    f\"output/chunk_data/chunk_{chunk_size}/mi_chunks.csv\",\n",
    "    index=False,\n",
    ")\n",
    "df_sttc_chunks.to_csv(\n",
    "    f\"output/chunk_data/chunk_{chunk_size}/sttc_chunks.csv\",\n",
    "    index=False,\n",
    ")\n",
    "df_sttc_mi_chunks.to_csv(\n",
    "    f\"output/chunk_data/chunk_{chunk_size}/sttc_mi_chunks.csv\",\n",
    "    index=False,\n",
    ")\n",
    "df_other_chunks.to_csv(\n",
    "    f\"output/chunk_data/chunk_{chunk_size}/other_chunks.csv\",\n",
    "    index=False,\n",
    ")"
   ]
  },
  {
   "cell_type": "code",
   "execution_count": 18,
   "metadata": {},
   "outputs": [],
   "source": [
    "del df_mi_chunks, df_sttc_chunks, df_sttc_mi_chunks, df_other_chunks, chunk_size"
   ]
  }
 ],
 "metadata": {
  "kernelspec": {
   "display_name": "mcd_venv",
   "language": "python",
   "name": "python3"
  },
  "language_info": {
   "codemirror_mode": {
    "name": "ipython",
    "version": 3
   },
   "file_extension": ".py",
   "mimetype": "text/x-python",
   "name": "python",
   "nbconvert_exporter": "python",
   "pygments_lexer": "ipython3",
   "version": "3.12.7"
  }
 },
 "nbformat": 4,
 "nbformat_minor": 2
}
