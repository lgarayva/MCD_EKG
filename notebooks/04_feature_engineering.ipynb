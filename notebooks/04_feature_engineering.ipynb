{
 "cells": [
  {
   "cell_type": "markdown",
   "metadata": {},
   "source": [
    "## <a id = '0'> Índice </a>\n",
    "\n",
    "* [**Entorno**](#1)  \n",
    "   * [Librerías](#1d1)  \n",
    "   * [Funciones](#1d2)  \n",
    "   * [Constantes](#1d3)\n",
    "\n",
    "* [**Lectura de datos**](#2)\n"
   ]
  },
  {
   "cell_type": "markdown",
   "metadata": {},
   "source": [
    "## <a id = '1'> Entorno </a>\n",
    "[índice](#0)"
   ]
  },
  {
   "cell_type": "markdown",
   "metadata": {},
   "source": [
    "### <a id = '1d1'> Librerías </a>"
   ]
  },
  {
   "cell_type": "code",
   "execution_count": 1,
   "metadata": {},
   "outputs": [],
   "source": [
    "import os\n",
    "import pandas as pd\n",
    "import numpy as np\n",
    "\n",
    "from statsmodels.tsa.stattools import acf, pacf\n",
    "from statsmodels.graphics.tsaplots import plot_acf, plot_pacf\n",
    "\n",
    "\n",
    "from statsmodels.tsa.stattools import adfuller\n",
    "from statsmodels.stats.diagnostic import acorr_ljungbox\n",
    "\n",
    "from statsmodels.tsa.arima.model import ARIMA\n",
    "\n",
    "from statsmodels.tsa.seasonal import seasonal_decompose\n",
    "from statsmodels.tsa.statespace.sarimax import SARIMAX\n",
    "\n",
    "import matplotlib.pyplot as plt\n",
    "\n",
    "import math\n",
    "import itertools\n",
    "# from config import data_folder\n",
    "\n",
    "from scipy.stats import kurtosis, trim_mean\n"
   ]
  },
  {
   "cell_type": "code",
   "execution_count": 2,
   "metadata": {},
   "outputs": [],
   "source": [
    "os.chdir(\"../\")"
   ]
  },
  {
   "cell_type": "markdown",
   "metadata": {},
   "source": [
    "### <a id = '1d2'> Funciones </a>"
   ]
  },
  {
   "cell_type": "code",
   "execution_count": 3,
   "metadata": {},
   "outputs": [],
   "source": [
    "from src.utils import *"
   ]
  },
  {
   "cell_type": "markdown",
   "metadata": {},
   "source": [
    "### <a id = '1d3'> Constantes </a>"
   ]
  },
  {
   "cell_type": "code",
   "execution_count": 4,
   "metadata": {},
   "outputs": [],
   "source": [
    "from config.cons import data_folder, window_jason, cara_lateral, cara_anterior, cara_interior, cara_sepal, list_signals"
   ]
  },
  {
   "cell_type": "markdown",
   "metadata": {},
   "source": [
    "## <a id = '2'> Lectura de datos </a>\n",
    "[índice](#0)"
   ]
  },
  {
   "cell_type": "code",
   "execution_count": 5,
   "metadata": {},
   "outputs": [],
   "source": [
    "proyect_path = os.getcwd()\n",
    "data_path = proyect_path + data_folder"
   ]
  },
  {
   "cell_type": "code",
   "execution_count": 6,
   "metadata": {},
   "outputs": [],
   "source": [
    "lateral_combinaciones = list(itertools.combinations(cara_lateral, 2))\n",
    "anterior_combinaciones = list(itertools.combinations(cara_anterior, 2))\n",
    "interior_combinaciones = list(itertools.combinations(cara_interior, 2))\n",
    "sepal_combinaciones = list(itertools.combinations(cara_sepal, 2))"
   ]
  },
  {
   "cell_type": "code",
   "execution_count": 7,
   "metadata": {},
   "outputs": [],
   "source": [
    "# all_combinaciones = list(itertools.combinations(list_signals, 2))\n",
    "all_combinaciones = list(itertools.combinations_with_replacement(list_signals, 2))\n",
    "bisignal_combinaciones = list(itertools.combinations(list_signals, 2))"
   ]
  },
  {
   "cell_type": "code",
   "execution_count": 8,
   "metadata": {},
   "outputs": [],
   "source": [
    "uni_combinacion = []\n",
    "bi_combinacion = []\n",
    "for col1, col2 in all_combinaciones:\n",
    "    if col1 == col2:\n",
    "        uni_combinacion.append(col1)\n",
    "    else:\n",
    "        bi_combinacion.append(col1 + \"_\" + col2)\n",
    "dict_combinaciones = {\n",
    "    \"uni_combinacion\": uni_combinacion,\n",
    "    \"bi_combinacion\": bi_combinacion\n",
    "}   "
   ]
  },
  {
   "cell_type": "code",
   "execution_count": 9,
   "metadata": {},
   "outputs": [],
   "source": [
    "signal_combinaciones = [item for item in all_combinaciones if item not in bisignal_combinaciones]\n"
   ]
  },
  {
   "cell_type": "code",
   "execution_count": 10,
   "metadata": {},
   "outputs": [],
   "source": [
    "bisignals_dict = {\"bisignal_combinaciones\": bisignal_combinaciones,\n",
    "                  \"signal_combinaciones\": signal_combinaciones,}"
   ]
  },
  {
   "cell_type": "code",
   "execution_count": 11,
   "metadata": {},
   "outputs": [],
   "source": [
    "df_all = lectura_carpetas_dict(data_path)"
   ]
  },
  {
   "cell_type": "code",
   "execution_count": 12,
   "metadata": {},
   "outputs": [],
   "source": [
    "df_mi = df_all[\"mi\"]\n",
    "df_sttc_mi = df_all[\"sttc_mi\"]\n",
    "df_sttc = df_all[\"sttc\"]\n",
    "df_other = df_all[\"other\"]"
   ]
  },
  {
   "cell_type": "code",
   "execution_count": 13,
   "metadata": {},
   "outputs": [],
   "source": [
    "#Lectura de windows\n",
    "import json\n",
    "with open(window_jason, \"r\") as file:\n",
    "    dict_data_jump = json.load(file)  "
   ]
  },
  {
   "cell_type": "code",
   "execution_count": 14,
   "metadata": {},
   "outputs": [],
   "source": [
    "patients_mi = pd.DataFrame({'patient_id' : df_mi.keys(),\n",
    "             'class' : \"mi\",\n",
    "             \"class_id\" : 0})\n",
    "patients_sttc_mi = pd.DataFrame({'patient_id' : df_sttc_mi.keys(),\n",
    "             'class' : \"sttc_mi\",\n",
    "             \"class_id\" : 1})\n",
    "patients_sttc = pd.DataFrame({'patient_id' : df_sttc.keys(),\n",
    "             'class' : \"sttc\",\n",
    "             \"class_id\" : 2})\n",
    "patients_other = pd.DataFrame({'patient_id' : df_other.keys(),\n",
    "             'class' : \"other\",\n",
    "             \"class_id\" : 3})\n",
    "\n",
    "patients_classes = pd.concat([patients_mi, patients_sttc_mi, patients_sttc, patients_other], axis=0)"
   ]
  },
  {
   "cell_type": "markdown",
   "metadata": {},
   "source": [
    "## Split Train Test Val"
   ]
  },
  {
   "cell_type": "code",
   "execution_count": 15,
   "metadata": {},
   "outputs": [],
   "source": [
    "\n",
    "X_train, X_test, X_val, y_train, y_test, y_val = split_train_test_val(patients_classes[\"patient_id\"], patients_classes[\"class\"], sizes = [0.10, 0.20], random_state = 42, stratify = patients_classes[\"class\"])"
   ]
  },
  {
   "cell_type": "code",
   "execution_count": 16,
   "metadata": {},
   "outputs": [],
   "source": [
    "train_patients = pd.DataFrame({\"patient\" : X_train, \n",
    "              \"class\": y_train,\n",
    "              \"sample\" : \"train\"})\n",
    "test_patients = pd.DataFrame({\"patient\" : X_test, \n",
    "              \"class\": y_test,\n",
    "              \"sample\" : \"test\"})\n",
    "val_patients = pd.DataFrame({\"patient\" : X_val, \n",
    "              \"class\": y_val,\n",
    "              \"sample\" : \"validation\"})\n",
    "patients = pd.concat([train_patients, test_patients, val_patients], axis=0)"
   ]
  },
  {
   "cell_type": "raw",
   "metadata": {
    "vscode": {
     "languageId": "raw"
    }
   },
   "source": [
    "patients.to_csv(\"output/patients.csv\", index = False)"
   ]
  },
  {
   "cell_type": "code",
   "execution_count": 15,
   "metadata": {},
   "outputs": [],
   "source": [
    "patients = pd.read_csv(\"output/patients.csv\")"
   ]
  },
  {
   "cell_type": "code",
   "execution_count": 16,
   "metadata": {},
   "outputs": [],
   "source": [
    "patients_train = patients[(patients[\"sample\"] == \"train\")]\n",
    "patients_test = patients[(patients[\"sample\"] == \"test\")]\n",
    "patients_val = patients[(patients[\"sample\"] == \"validation\")]"
   ]
  },
  {
   "cell_type": "code",
   "execution_count": 17,
   "metadata": {},
   "outputs": [],
   "source": [
    "patients_train_mi = patients_train[patients_train[\"class\"] == \"mi\"][\"patient\"].values\n",
    "patients_train_sttc_mi = patients_train[patients_train[\"class\"] == \"sttc_mi\"][\"patient\"].values\n",
    "patients_train_sttc = patients_train[patients_train[\"class\"] == \"sttc\"][\"patient\"].values\n",
    "patients_train_other = patients_train[patients_train[\"class\"] == \"other\"][\"patient\"].values"
   ]
  },
  {
   "cell_type": "code",
   "execution_count": 18,
   "metadata": {},
   "outputs": [],
   "source": [
    "df_mi_train = {patient : df_mi[patient] for patient in patients_train_mi}\n",
    "df_sttc_mi_train = {patient : df_sttc_mi[patient] for patient in patients_train_sttc_mi}\n",
    "df_sttc_train = {patient : df_sttc[patient] for patient in patients_train_sttc}\n",
    "df_other_train = {patient : df_other[patient] for patient in patients_train_other}"
   ]
  },
  {
   "cell_type": "markdown",
   "metadata": {},
   "source": [
    "## Feature Engineering"
   ]
  },
  {
   "cell_type": "markdown",
   "metadata": {},
   "source": [
    "### Train"
   ]
  },
  {
   "cell_type": "markdown",
   "metadata": {},
   "source": [
    "#### ACF y PACF lags (5)"
   ]
  },
  {
   "cell_type": "code",
   "execution_count": 19,
   "metadata": {},
   "outputs": [],
   "source": [
    "df_mi_acf_pacf_train = dict_to_dataframe(genera_df_acf_pacf(df_mi_train, list_signals, apply_diff= True))\n",
    "df_sttc_mi_acf_pacf_train = dict_to_dataframe(genera_df_acf_pacf(df_sttc_mi_train, list_signals, apply_diff= True)) \n",
    "df_sttc_acf_pacf_train = dict_to_dataframe(genera_df_acf_pacf(df_sttc_train, list_signals, apply_diff= True))\n",
    "df_other_acf_pacf_train = dict_to_dataframe(genera_df_acf_pacf(df_other_train, list_signals, apply_diff= True))"
   ]
  },
  {
   "cell_type": "code",
   "execution_count": 20,
   "metadata": {},
   "outputs": [],
   "source": [
    "df_mi_acf_pacf_train.to_csv(\"output/features/train/mi_acf_pacf.csv\", index = False)\n",
    "df_sttc_mi_acf_pacf_train.to_csv(\"output/features/train/sttc_mi_acf_pacf.csv\", index = False)\n",
    "df_sttc_acf_pacf_train.to_csv(\"output/features/train/sttc_acf_pacf.csv\", index = False)\n",
    "df_other_acf_pacf_train.to_csv(\"output/features/train/other_acf_pacf.csv\", index = False)"
   ]
  },
  {
   "cell_type": "markdown",
   "metadata": {},
   "source": [
    "#### Pick distribution seasonal"
   ]
  },
  {
   "cell_type": "markdown",
   "metadata": {},
   "source": [
    "##### distribución en picos (seasonal, TFF, etc)\n",
    "\n",
    "Número total de picos."
   ]
  },
  {
   "cell_type": "code",
   "execution_count": 23,
   "metadata": {},
   "outputs": [],
   "source": [
    "df_mi_train = {patient : df_mi[patient] for patient in patients_train_mi}\n",
    "df_sttc_mi_train = {patient : df_sttc_mi[patient] for patient in patients_train_sttc_mi}\n",
    "df_sttc_train = {patient : df_sttc[patient] for patient in patients_train_sttc}\n",
    "df_other_train = {patient : df_other[patient] for patient in patients_train_other}"
   ]
  },
  {
   "cell_type": "code",
   "execution_count": 24,
   "metadata": {},
   "outputs": [],
   "source": [
    "df_mi_peak_train = get_dict_serie_summary(df_mi_train, list_signals, 100)\n",
    "df_sttc_mi_peak_train = get_dict_serie_summary(df_sttc_mi_train, list_signals, 100)\n",
    "df_sttc_peak_train = get_dict_serie_summary(df_sttc_train, list_signals, 100)\n",
    "df_other_peak_train = get_dict_serie_summary(df_other_train, list_signals, 100)"
   ]
  },
  {
   "cell_type": "code",
   "execution_count": 25,
   "metadata": {},
   "outputs": [],
   "source": [
    "df_mi_peak_train.to_csv(\"output/features/train/mi_peak.csv\", index = False)\n",
    "df_sttc_mi_peak_train.to_csv(\"output/features/train/sttc_mi_peak.csv\", index = False)\n",
    "df_sttc_peak_train.to_csv(\"output/features/train/sttc_peak.csv\", index = False)\n",
    "df_other_peak_train.to_csv(\"output/features/train/other_peak.csv\", index = False)"
   ]
  },
  {
   "cell_type": "markdown",
   "metadata": {},
   "source": [
    "#### Cross Correlation features"
   ]
  },
  {
   "cell_type": "markdown",
   "metadata": {},
   "source": [
    "Correlaciones cruzadas\n",
    "* Promedio de correlaciones por combinación.\n",
    "* Desviación estándar de las correlaciones por combinación.\n",
    "* Máxima y mínima correlación por combinación.\n",
    "* Lag de la máxima correlación por combinación.\n",
    "* Kurtosis.\n",
    "* Promedio de todas las autocorrelaciones de la matriz.\n",
    "* Norma de la matriz.\n",
    "* Número de cruces por cero."
   ]
  },
  {
   "cell_type": "code",
   "execution_count": 26,
   "metadata": {},
   "outputs": [],
   "source": [
    "df_mi_ccf_train = patients_dict_ccf(df_mi_train, all_combinaciones)\n",
    "df_sttc_mi_ccf_train = patients_dict_ccf(df_sttc_mi_train, all_combinaciones)\n",
    "df_sttc_ccf_train = patients_dict_ccf(df_sttc_train, all_combinaciones)\n",
    "df_other_ccf_train = patients_dict_ccf(df_other_train, all_combinaciones)\n"
   ]
  },
  {
   "cell_type": "code",
   "execution_count": null,
   "metadata": {},
   "outputs": [],
   "source": [
    "df_mi_ccf_stats_train = get_dict_ccf_summary(df_mi_ccf_train, dict_combinaciones,)\n",
    "df_sttc_mi_ccf_stats_train = get_dict_ccf_summary(df_sttc_mi_ccf_train, dict_combinaciones,)\n",
    "df_sttc_ccf_stats_train = get_dict_ccf_summary(df_sttc_ccf_train, dict_combinaciones,)\n",
    "df_other_ccf_stats_train = get_dict_ccf_summary(df_other_ccf_train, dict_combinaciones,)\n",
    "\n",
    "df_mi_ccf_stats_train.to_csv(\"output/features/train/mi_ccf_stats.csv\", index = False)\n",
    "df_sttc_mi_ccf_stats_train.to_csv(\"output/features/train/sttc_mi_ccf_stats.csv\", index = False)\n",
    "df_sttc_ccf_stats_train.to_csv(\"output/features/train/sttc_ccf_stats.csv\", index = False)\n",
    "df_other_ccf_stats_train.to_csv(\"output/features/train/other_ccf_stats.csv\", index = False)"
   ]
  },
  {
   "cell_type": "markdown",
   "metadata": {},
   "source": [
    "### Test"
   ]
  },
  {
   "cell_type": "markdown",
   "metadata": {},
   "source": [
    "#### ACF y PACF lags (5)"
   ]
  },
  {
   "cell_type": "code",
   "execution_count": 21,
   "metadata": {},
   "outputs": [],
   "source": [
    "patients_test_mi = patients_test[patients_test[\"class\"] == \"mi\"][\"patient\"].values\n",
    "patients_test_sttc_mi = patients_test[patients_test[\"class\"] == \"sttc_mi\"][\"patient\"].values\n",
    "patients_test_sttc = patients_test[patients_test[\"class\"] == \"sttc\"][\"patient\"].values\n",
    "patients_test_other = patients_test[patients_test[\"class\"] == \"other\"][\"patient\"].values"
   ]
  },
  {
   "cell_type": "code",
   "execution_count": 22,
   "metadata": {},
   "outputs": [],
   "source": [
    "df_mi_test = {patient : df_mi[patient] for patient in patients_test_mi}\n",
    "df_sttc_mi_test = {patient : df_sttc_mi[patient] for patient in patients_test_sttc_mi}\n",
    "df_sttc_test = {patient : df_sttc[patient] for patient in patients_test_sttc}\n",
    "df_other_test = {patient : df_other[patient] for patient in patients_test_other}"
   ]
  },
  {
   "cell_type": "code",
   "execution_count": 23,
   "metadata": {},
   "outputs": [],
   "source": [
    "df_mi_acf_pacf_test = dict_to_dataframe(genera_df_acf_pacf(df_mi_test, list_signals, apply_diff= True))\n",
    "df_sttc_mi_acf_pacf_test = dict_to_dataframe(genera_df_acf_pacf(df_sttc_mi_test, list_signals, apply_diff= True)) \n",
    "df_sttc_acf_pacf_test = dict_to_dataframe(genera_df_acf_pacf(df_sttc_test, list_signals, apply_diff= True))\n",
    "df_other_acf_pacf_test = dict_to_dataframe(genera_df_acf_pacf(df_other_test, list_signals, apply_diff= True))"
   ]
  },
  {
   "cell_type": "code",
   "execution_count": 24,
   "metadata": {},
   "outputs": [],
   "source": [
    "df_mi_acf_pacf_test.to_csv(\"output/features/test/mi_acf_pacf.csv\", index = False)\n",
    "df_sttc_mi_acf_pacf_test.to_csv(\"output/features/test/sttc_mi_acf_pacf.csv\", index = False)\n",
    "df_sttc_acf_pacf_test.to_csv(\"output/features/test/sttc_acf_pacf.csv\", index = False)\n",
    "df_other_acf_pacf_test.to_csv(\"output/features/test/other_acf_pacf.csv\", index = False)"
   ]
  },
  {
   "cell_type": "markdown",
   "metadata": {},
   "source": [
    "##### distribución en picos (seasonal, TFF, etc)\n",
    "\n",
    "Número total de picos."
   ]
  },
  {
   "cell_type": "code",
   "execution_count": 33,
   "metadata": {},
   "outputs": [],
   "source": [
    "df_mi_test = {patient : df_mi[patient] for patient in patients_test_mi}\n",
    "df_sttc_mi_test = {patient : df_sttc_mi[patient] for patient in patients_test_sttc_mi}\n",
    "df_sttc_test = {patient : df_sttc[patient] for patient in patients_test_sttc}\n",
    "df_other_test = {patient : df_other[patient] for patient in patients_test_other}"
   ]
  },
  {
   "cell_type": "code",
   "execution_count": 34,
   "metadata": {},
   "outputs": [],
   "source": [
    "df_mi_peak_test = get_dict_serie_summary(df_mi_test, list_signals, 100)\n",
    "df_sttc_mi_peak_test = get_dict_serie_summary(df_sttc_mi_test, list_signals, 100)\n",
    "df_sttc_peak_test = get_dict_serie_summary(df_sttc_test, list_signals, 100)\n",
    "df_other_peak_test = get_dict_serie_summary(df_other_test, list_signals, 100)"
   ]
  },
  {
   "cell_type": "code",
   "execution_count": 35,
   "metadata": {},
   "outputs": [],
   "source": [
    "df_mi_peak_test.to_csv(\"output/features/test/mi_peak.csv\", index = False)\n",
    "df_sttc_mi_peak_test.to_csv(\"output/features/test/sttc_mi_peak.csv\", index = False)\n",
    "df_sttc_peak_test.to_csv(\"output/features/test/sttc_peak.csv\", index = False)\n",
    "df_other_peak_test.to_csv(\"output/features/test/other_peak.csv\", index = False)"
   ]
  },
  {
   "cell_type": "markdown",
   "metadata": {},
   "source": [
    "#### Cross Correlation features"
   ]
  },
  {
   "cell_type": "markdown",
   "metadata": {},
   "source": [
    "Correlaciones cruzadas\n",
    "* Promedio de correlaciones por combinación.\n",
    "* Desviación estándar de las correlaciones por combinación.\n",
    "* Máxima y mínima correlación por combinación.\n",
    "* Lag de la máxima correlación por combinación.\n",
    "* Kurtosis.\n",
    "* Promedio de todas las autocorrelaciones de la matriz.\n",
    "* Norma de la matriz.\n",
    "* Número de cruces por cero."
   ]
  },
  {
   "cell_type": "code",
   "execution_count": 36,
   "metadata": {},
   "outputs": [],
   "source": [
    "df_mi_ccf_test = patients_dict_ccf(df_mi_test, all_combinaciones)\n",
    "df_sttc_mi_ccf_test = patients_dict_ccf(df_sttc_mi_test, all_combinaciones)\n",
    "df_sttc_ccf_test = patients_dict_ccf(df_sttc_test, all_combinaciones)\n",
    "df_other_ccf_test = patients_dict_ccf(df_other_test, all_combinaciones)"
   ]
  },
  {
   "cell_type": "code",
   "execution_count": null,
   "metadata": {},
   "outputs": [],
   "source": [
    "df_mi_ccf_stats_test = get_dict_ccf_summary(df_mi_ccf_test, dict_combinaciones,)\n",
    "df_sttc_mi_ccf_stats_test = get_dict_ccf_summary(df_sttc_mi_ccf_test, dict_combinaciones,)\n",
    "df_sttc_ccf_stats_test = get_dict_ccf_summary(df_sttc_ccf_test, dict_combinaciones,)\n",
    "df_other_ccf_stats_test = get_dict_ccf_summary(df_other_ccf_test, dict_combinaciones,)"
   ]
  },
  {
   "cell_type": "code",
   "execution_count": null,
   "metadata": {},
   "outputs": [],
   "source": [
    "df_mi_ccf_stats_test.to_csv(\"output/features/test/mi_ccf_stats.csv\", index = False)\n",
    "df_sttc_mi_ccf_stats_test.to_csv(\"output/features/test/sttc_mi_ccf_stats.csv\", index = False)\n",
    "df_sttc_ccf_stats_test.to_csv(\"output/features/test/sttc_ccf_stats.csv\", index = False)\n",
    "df_other_ccf_stats_test.to_csv(\"output/features/test/other_ccf_stats.csv\", index = False)"
   ]
  },
  {
   "cell_type": "markdown",
   "metadata": {},
   "source": [
    "### Val"
   ]
  },
  {
   "cell_type": "markdown",
   "metadata": {},
   "source": [
    "#### ACF y PACF lags (5)"
   ]
  },
  {
   "cell_type": "code",
   "execution_count": 25,
   "metadata": {},
   "outputs": [],
   "source": [
    "patients_val_mi = patients_val[patients_val[\"class\"] == \"mi\"][\"patient\"].values\n",
    "patients_val_sttc_mi = patients_val[patients_val[\"class\"] == \"sttc_mi\"][\"patient\"].values\n",
    "patients_val_sttc = patients_val[patients_val[\"class\"] == \"sttc\"][\"patient\"].values\n",
    "patients_val_other = patients_val[patients_val[\"class\"] == \"other\"][\"patient\"].values"
   ]
  },
  {
   "cell_type": "code",
   "execution_count": 26,
   "metadata": {},
   "outputs": [],
   "source": [
    "df_mi_val = {patient : df_mi[patient] for patient in patients_val_mi}\n",
    "df_sttc_mi_val = {patient : df_sttc_mi[patient] for patient in patients_val_sttc_mi}\n",
    "df_sttc_val = {patient : df_sttc[patient] for patient in patients_val_sttc}\n",
    "df_other_val = {patient : df_other[patient] for patient in patients_val_other}\n"
   ]
  },
  {
   "cell_type": "code",
   "execution_count": 27,
   "metadata": {},
   "outputs": [],
   "source": [
    "df_mi_acf_pacf_val = dict_to_dataframe(genera_df_acf_pacf(df_mi_val, list_signals, apply_diff= True))\n",
    "df_sttc_mi_acf_pacf_val = dict_to_dataframe(genera_df_acf_pacf(df_sttc_mi_val, list_signals, apply_diff= True)) \n",
    "df_sttc_acf_pacf_val = dict_to_dataframe(genera_df_acf_pacf(df_sttc_val, list_signals, apply_diff= True))\n",
    "df_other_acf_pacf_val = dict_to_dataframe(genera_df_acf_pacf(df_other_val, list_signals, apply_diff= True))"
   ]
  },
  {
   "cell_type": "code",
   "execution_count": 28,
   "metadata": {},
   "outputs": [],
   "source": [
    "df_mi_acf_pacf_val.to_csv(\"output/features/val/mi_acf_pacf.csv\", index = False)\n",
    "df_sttc_mi_acf_pacf_val.to_csv(\"output/features/val/sttc_mi_acf_pacf.csv\", index = False)\n",
    "df_sttc_acf_pacf_val.to_csv(\"output/features/val/sttc_acf_pacf.csv\", index = False)\n",
    "df_other_acf_pacf_val.to_csv(\"output/features/val/other_acf_pacf.csv\", index = False)"
   ]
  },
  {
   "cell_type": "markdown",
   "metadata": {},
   "source": [
    "##### distribución en picos (seasonal, TFF, etc)\n",
    "\n",
    "Número total de picos."
   ]
  },
  {
   "cell_type": "code",
   "execution_count": 43,
   "metadata": {},
   "outputs": [],
   "source": [
    "df_mi_val = {patient : df_mi[patient] for patient in patients_val_mi}\n",
    "df_sttc_mi_val = {patient : df_sttc_mi[patient] for patient in patients_val_sttc_mi}\n",
    "df_sttc_val = {patient : df_sttc[patient] for patient in patients_val_sttc}\n",
    "df_other_val = {patient : df_other[patient] for patient in patients_val_other}"
   ]
  },
  {
   "cell_type": "code",
   "execution_count": 44,
   "metadata": {},
   "outputs": [],
   "source": [
    "df_mi_peak_val = get_dict_serie_summary(df_mi_val, list_signals, 100)\n",
    "df_sttc_mi_peak_val = get_dict_serie_summary(df_sttc_mi_val, list_signals, 100)\n",
    "df_sttc_peak_val = get_dict_serie_summary(df_sttc_val, list_signals, 100)\n",
    "df_other_peak_val = get_dict_serie_summary(df_other_val, list_signals, 100)"
   ]
  },
  {
   "cell_type": "code",
   "execution_count": 45,
   "metadata": {},
   "outputs": [],
   "source": [
    "df_mi_peak_val.to_csv(\"output/features/val/mi_peak.csv\", index = False)\n",
    "df_sttc_mi_peak_val.to_csv(\"output/features/val/sttc_mi_peak.csv\", index = False)\n",
    "df_sttc_peak_val.to_csv(\"output/features/val/sttc_peak.csv\", index = False)\n",
    "df_other_peak_val.to_csv(\"output/features/val/other_peak.csv\", index = False)"
   ]
  },
  {
   "cell_type": "markdown",
   "metadata": {},
   "source": [
    "#### Cross Correlation features"
   ]
  },
  {
   "cell_type": "markdown",
   "metadata": {},
   "source": [
    "Correlaciones cruzadas\n",
    "* Promedio de correlaciones por combinación.\n",
    "* Desviación estándar de las correlaciones por combinación.\n",
    "* Máxima y mínima correlación por combinación.\n",
    "* Lag de la máxima correlación por combinación.\n",
    "* Kurtosis.\n",
    "* Promedio de todas las autocorrelaciones de la matriz.\n",
    "* Norma de la matriz.\n",
    "* Número de cruces por cero."
   ]
  },
  {
   "cell_type": "code",
   "execution_count": 46,
   "metadata": {},
   "outputs": [],
   "source": [
    "df_mi_ccf_val = patients_dict_ccf(df_mi_val, all_combinaciones)\n",
    "df_sttc_mi_ccf_val = patients_dict_ccf(df_sttc_mi_val, all_combinaciones)\n",
    "df_sttc_ccf_val = patients_dict_ccf(df_sttc_val, all_combinaciones)\n",
    "df_other_ccf_val = patients_dict_ccf(df_other_val, all_combinaciones)"
   ]
  },
  {
   "cell_type": "code",
   "execution_count": null,
   "metadata": {},
   "outputs": [],
   "source": [
    "df_mi_ccf_stats_val = get_dict_ccf_summary(df_mi_ccf_val, dict_combinaciones,)\n",
    "df_sttc_mi_ccf_stats_val = get_dict_ccf_summary(df_sttc_mi_ccf_val, dict_combinaciones,)\n",
    "df_sttc_ccf_stats_val = get_dict_ccf_summary(df_sttc_ccf_val, dict_combinaciones,)\n",
    "df_other_ccf_stats_val = get_dict_ccf_summary(df_other_ccf_val, dict_combinaciones,)"
   ]
  },
  {
   "cell_type": "code",
   "execution_count": null,
   "metadata": {},
   "outputs": [],
   "source": [
    "df_mi_ccf_stats_val.to_csv(\"output/features/val/mi_ccf_stats.csv\", index = False)\n",
    "df_sttc_mi_ccf_stats_val.to_csv(\"output/features/val/sttc_mi_ccf_stats.csv\", index = False)\n",
    "df_sttc_ccf_stats_val.to_csv(\"output/features/val/sttc_ccf_stats.csv\", index = False)\n",
    "df_other_ccf_stats_val.to_csv(\"output/features/val/other_ccf_stats.csv\", index = False)"
   ]
  }
 ],
 "metadata": {
  "kernelspec": {
   "display_name": "base_mcd",
   "language": "python",
   "name": "python3"
  },
  "language_info": {
   "codemirror_mode": {
    "name": "ipython",
    "version": 3
   },
   "file_extension": ".py",
   "mimetype": "text/x-python",
   "name": "python",
   "nbconvert_exporter": "python",
   "pygments_lexer": "ipython3",
   "version": "3.11.9"
  }
 },
 "nbformat": 4,
 "nbformat_minor": 2
}
