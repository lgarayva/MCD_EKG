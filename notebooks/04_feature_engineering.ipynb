{
 "cells": [
  {
   "cell_type": "markdown",
   "metadata": {},
   "source": [
    "## <a id = '0'> Índice </a>\n",
    "\n",
    "* [**Entorno**](#1)  \n",
    "   * [Librerías](#1d1)  \n",
    "   * [Funciones](#1d2)  \n",
    "   * [Constantes](#1d3)\n",
    "\n",
    "* [**Lectura de datos**](#2)\n"
   ]
  },
  {
   "cell_type": "markdown",
   "metadata": {},
   "source": [
    "## <a id = '1'> Entorno </a>\n",
    "[índice](#0)"
   ]
  },
  {
   "cell_type": "markdown",
   "metadata": {},
   "source": [
    "### <a id = '1d1'> Librerías </a>"
   ]
  },
  {
   "cell_type": "code",
   "execution_count": 1,
   "metadata": {},
   "outputs": [],
   "source": [
    "import os\n",
    "import pandas as pd\n",
    "import numpy as np\n",
    "\n",
    "from statsmodels.tsa.stattools import acf, pacf\n",
    "from statsmodels.graphics.tsaplots import plot_acf, plot_pacf\n",
    "\n",
    "\n",
    "from statsmodels.tsa.stattools import adfuller\n",
    "from statsmodels.stats.diagnostic import acorr_ljungbox\n",
    "\n",
    "from statsmodels.tsa.arima.model import ARIMA\n",
    "\n",
    "from statsmodels.tsa.seasonal import seasonal_decompose\n",
    "from statsmodels.tsa.statespace.sarimax import SARIMAX\n",
    "\n",
    "import matplotlib.pyplot as plt\n",
    "\n",
    "import math\n",
    "import itertools\n",
    "# from config import data_folder"
   ]
  },
  {
   "cell_type": "code",
   "execution_count": 2,
   "metadata": {},
   "outputs": [],
   "source": [
    "os.chdir(\"../\")"
   ]
  },
  {
   "cell_type": "markdown",
   "metadata": {},
   "source": [
    "### <a id = '1d2'> Funciones </a>"
   ]
  },
  {
   "cell_type": "code",
   "execution_count": 3,
   "metadata": {},
   "outputs": [],
   "source": [
    "from src.utils import *"
   ]
  },
  {
   "cell_type": "markdown",
   "metadata": {},
   "source": [
    "### <a id = '1d3'> Constantes </a>"
   ]
  },
  {
   "cell_type": "code",
   "execution_count": 4,
   "metadata": {},
   "outputs": [],
   "source": [
    "from config.cons import data_folder, window_jason, cara_lateral, cara_anterior, cara_interior, cara_sepal, list_signals"
   ]
  },
  {
   "cell_type": "markdown",
   "metadata": {},
   "source": [
    "## <a id = '2'> Lectura de datos </a>\n",
    "[índice](#0)"
   ]
  },
  {
   "cell_type": "code",
   "execution_count": 5,
   "metadata": {},
   "outputs": [],
   "source": [
    "proyect_path = os.getcwd()\n",
    "data_path = proyect_path + data_folder"
   ]
  },
  {
   "cell_type": "code",
   "execution_count": 6,
   "metadata": {},
   "outputs": [],
   "source": [
    "lateral_combinaciones = list(itertools.combinations(cara_lateral, 2))\n",
    "anterior_combinaciones = list(itertools.combinations(cara_anterior, 2))\n",
    "interior_combinaciones = list(itertools.combinations(cara_interior, 2))\n",
    "sepal_combinaciones = list(itertools.combinations(cara_sepal, 2))"
   ]
  },
  {
   "cell_type": "code",
   "execution_count": 7,
   "metadata": {},
   "outputs": [],
   "source": [
    "df_all = lectura_carpetas_dict(data_path)"
   ]
  },
  {
   "cell_type": "code",
   "execution_count": 8,
   "metadata": {},
   "outputs": [],
   "source": [
    "df_mi = df_all[\"mi\"]\n",
    "df_sttc_mi = df_all[\"sttc_mi\"]\n",
    "df_sttc = df_all[\"sttc\"]\n",
    "df_other = df_all[\"other\"]"
   ]
  },
  {
   "cell_type": "code",
   "execution_count": 9,
   "metadata": {},
   "outputs": [],
   "source": [
    "#Lectura de windows\n",
    "import json\n",
    "with open(window_jason, \"r\") as file:\n",
    "    dict_data_jump = json.load(file)  "
   ]
  },
  {
   "cell_type": "code",
   "execution_count": 10,
   "metadata": {},
   "outputs": [],
   "source": [
    "patients_mi = pd.DataFrame({'patient_id' : df_mi.keys(),\n",
    "             'class' : \"mi\",\n",
    "             \"class_id\" : 0})\n",
    "patients_sttc_mi = pd.DataFrame({'patient_id' : df_sttc_mi.keys(),\n",
    "             'class' : \"sttc_mi\",\n",
    "             \"class_id\" : 1})\n",
    "patients_sttc = pd.DataFrame({'patient_id' : df_sttc.keys(),\n",
    "             'class' : \"sttc\",\n",
    "             \"class_id\" : 2})\n",
    "patients_other = pd.DataFrame({'patient_id' : df_other.keys(),\n",
    "             'class' : \"other\",\n",
    "             \"class_id\" : 3})\n",
    "\n",
    "patients_classes = pd.concat([patients_mi, patients_sttc_mi, patients_sttc, patients_other], axis=0)"
   ]
  },
  {
   "cell_type": "code",
   "execution_count": 11,
   "metadata": {},
   "outputs": [],
   "source": [
    "\n",
    "X_train, X_test, X_val, y_train, y_test, y_val = split_train_test_val(patients_classes[\"patient_id\"], patients_classes[\"class\"], sizes = [0.10, 0.20], random_state = 42, stratify = patients_classes[\"class\"])"
   ]
  },
  {
   "cell_type": "code",
   "execution_count": 12,
   "metadata": {},
   "outputs": [],
   "source": [
    "train_patients = pd.DataFrame({\"patient\" : X_train, \n",
    "              \"class\": y_train,\n",
    "              \"sample\" : \"train\"})\n",
    "test_patients = pd.DataFrame({\"patient\" : X_test, \n",
    "              \"class\": y_test,\n",
    "              \"sample\" : \"test\"})\n",
    "val_patients = pd.DataFrame({\"patient\" : X_val, \n",
    "              \"class\": y_val,\n",
    "              \"sample\" : \"validation\"})\n",
    "patients = pd.concat([train_patients, test_patients, val_patients], axis=0)"
   ]
  },
  {
   "cell_type": "code",
   "execution_count": 13,
   "metadata": {},
   "outputs": [],
   "source": [
    "patients.to_csv(\"output/patients.csv\", index = False)"
   ]
  },
  {
   "cell_type": "code",
   "execution_count": 14,
   "metadata": {},
   "outputs": [],
   "source": [
    "patients_train = patients[(patients[\"sample\"] == \"train\")]\n",
    "patients_test = patients[(patients[\"sample\"] == \"test\")]\n",
    "patients_val = patients[(patients[\"sample\"] == \"validation\")]"
   ]
  },
  {
   "cell_type": "code",
   "execution_count": 15,
   "metadata": {},
   "outputs": [],
   "source": [
    "patients_train_mi = patients_train[patients_train[\"class\"] == \"mi\"][\"patient\"].values\n",
    "patients_train_sttc_mi = patients_train[patients_train[\"class\"] == \"sttc_mi\"][\"patient\"].values\n",
    "patients_train_sttc = patients_train[patients_train[\"class\"] == \"sttc\"][\"patient\"].values\n",
    "patients_train_other = patients_train[patients_train[\"class\"] == \"other\"][\"patient\"].values"
   ]
  },
  {
   "cell_type": "code",
   "execution_count": 16,
   "metadata": {},
   "outputs": [],
   "source": [
    "df_mi_train = {patient : df_mi[patient] for patient in patients_train_mi}\n",
    "df_sttc_mi_train = {patient : df_sttc_mi[patient] for patient in patients_train_sttc_mi}\n",
    "df_sttc_train = {patient : df_sttc[patient] for patient in patients_train_sttc}\n",
    "df_other_train = {patient : df_other[patient] for patient in patients_train_other}"
   ]
  },
  {
   "cell_type": "markdown",
   "metadata": {},
   "source": [
    "## Feature Engineering"
   ]
  },
  {
   "cell_type": "markdown",
   "metadata": {},
   "source": [
    "### ACF y PACF lags (5)"
   ]
  },
  {
   "cell_type": "code",
   "execution_count": 26,
   "metadata": {},
   "outputs": [],
   "source": [
    "df_mi_acf_pacf_train = dict_to_dataframe(genera_df_acf_pacf(df_mi_train, list_signals, apply_diff= True))\n",
    "df_sttc_mi_acf_pacf_train = dict_to_dataframe(genera_df_acf_pacf(df_sttc_mi_train, list_signals, apply_diff= True)) \n",
    "df_sttc_acf_pacf_train = dict_to_dataframe(genera_df_acf_pacf(df_sttc_train, list_signals, apply_diff= True))\n",
    "df_other_acf_pacf_train = dict_to_dataframe(genera_df_acf_pacf(df_other_train, list_signals, apply_diff= True))"
   ]
  },
  {
   "cell_type": "code",
   "execution_count": 27,
   "metadata": {},
   "outputs": [],
   "source": [
    "df_mi_acf_pacf_train.to_csv(\"output/features/mi_acf_pacf_train.csv\", index = False)\n",
    "df_sttc_mi_acf_pacf_train.to_csv(\"output/features/sttc_mi_acf_pacf_train.csv\", index = False)\n",
    "df_sttc_acf_pacf_train.to_csv(\"output/features/sttc_acf_pacf_train.csv\", index = False)\n",
    "df_other_acf_pacf_train.to_csv(\"output/features/other_acf_pacf_train.csv\", index = False)"
   ]
  },
  {
   "cell_type": "markdown",
   "metadata": {},
   "source": [
    "### Pick distribution seasonal"
   ]
  },
  {
   "cell_type": "markdown",
   "metadata": {},
   "source": [
    "#### distribución en picos (seasonal, TFF, etc)"
   ]
  },
  {
   "cell_type": "markdown",
   "metadata": {},
   "source": [
    "##### Número total de picos."
   ]
  },
  {
   "cell_type": "code",
   "execution_count": 24,
   "metadata": {},
   "outputs": [],
   "source": [
    "df_mi_signals = get_dict_labels(df_mi, list_signals)\n",
    "df_sttc_mi_signals = get_dict_labels(df_sttc_mi, list_signals)\n",
    "df_sttc_signals = get_dict_labels(df_sttc, list_signals)\n",
    "df_other_signals = get_dict_labels(df_other, list_signals)"
   ]
  },
  {
   "cell_type": "code",
   "execution_count": null,
   "metadata": {},
   "outputs": [],
   "source": [
    "mi_seasonal = seasonal_decompose(pd.Series(get_estadisticas(df_mi_signals[\"II\"])[\"mean\"]),period = 100).seasonal\n",
    "sttc_mi_seasonal = seasonal_decompose(pd.Series(get_estadisticas(df_sttc_mi_signals[\"II\"])[\"mean\"]),period = 100).seasonal\n",
    "sttc_seasonal = seasonal_decompose(pd.Series(get_estadisticas(df_sttc_signals[\"II\"])[\"mean\"]),period = 100).seasonal\n",
    "other_seasonal = seasonal_decompose(pd.Series(get_estadisticas(df_other_signals[\"II\"])[\"mean\"]),period = 100).seasonal"
   ]
  },
  {
   "cell_type": "code",
   "execution_count": 17,
   "metadata": {},
   "outputs": [],
   "source": [
    "df_mi_train = {patient : df_mi[patient] for patient in patients_train_mi}\n",
    "df_sttc_mi_train = {patient : df_sttc_mi[patient] for patient in patients_train_sttc_mi}\n",
    "df_sttc_train = {patient : df_sttc[patient] for patient in patients_train_sttc}\n",
    "df_other_train = {patient : df_other[patient] for patient in patients_train_other}"
   ]
  },
  {
   "cell_type": "code",
   "execution_count": 19,
   "metadata": {},
   "outputs": [],
   "source": [
    "class SerieAnalisis:\n",
    "    def __init__(self, serie):\n",
    "        self.serie = serie\n",
    "    def amplitud(self):\n",
    "        return self.serie.max() - self.serie.min()\n",
    "    def intensidad(self):\n",
    "        return self.serie.std()\n",
    "    def seasonal_serie(self, period = 100):\n",
    "        return seasonal_decompose(self.serie, period = period).seasonal\n",
    "    def ratio(self, period=100):\n",
    "        seasonal = self.seasonal_serie(period)\n",
    "        return seasonal.std() / self.serie.std()\n",
    "    def mean_peaks(self, n_std = 2):\n",
    "        diff_peaks = get_list_jumps(get_peaks_seasonal(self.serie, n_std = n_std))\n",
    "        if len(diff_peaks) < 2:\n",
    "            return np.nan\n",
    "        return np.mean(diff_peaks)\n",
    "    def std_peaks(self, n_std = 2):\n",
    "        diff_peaks = get_list_jumps(get_peaks_seasonal(self.serie, n_std = n_std))\n",
    "        if len(diff_peaks) < 2:\n",
    "            return np.nan\n",
    "        return np.std(diff_peaks)\n",
    "    def n_peaks(self, n_std = 2):\n",
    "        peaks = get_peaks_seasonal(self.serie, n_std = n_std)\n",
    "        return len(peaks)\n",
    "        "
   ]
  },
  {
   "cell_type": "code",
   "execution_count": 33,
   "metadata": {},
   "outputs": [],
   "source": [
    "def get_serie_summary(serie, cara, period = 100):\n",
    "    \"\"\"\n",
    "    Genera un resumen de la serie temporal\n",
    "    \"\"\"\n",
    "    class_serie = SerieAnalisis(serie)\n",
    "    \n",
    "    return {\n",
    "        \"amplitud\" + \"_\" + cara : class_serie.amplitud(),\n",
    "        \"intensidad\" + \"_\" + cara : class_serie.intensidad(),\n",
    "        \"ratio\" + \"_\" + cara : class_serie.ratio(),\n",
    "        \"mean_peaks\" + \"_\" + cara : class_serie.mean_peaks(),\n",
    "        \"std_peaks\" + \"_\" + cara : class_serie.std_peaks(),\n",
    "        \"n_peaks\" + \"_\" + cara : class_serie.n_peaks()\n",
    "    }"
   ]
  },
  {
   "cell_type": "code",
   "execution_count": 53,
   "metadata": {},
   "outputs": [],
   "source": [
    "def get_dict_serie_summary(dict, caras, period,) -> pd.DataFrame:\n",
    "    \"\"\"Genera un resumen de la serie temporal\n",
    "\n",
    "    Args:\n",
    "        dict (_type_): _description_\n",
    "        caras (_type_): _description_\n",
    "        period (_type_): _description_\n",
    "\n",
    "    Returns:\n",
    "        pd.DataFrame: _description_\n",
    "    \"\"\"\n",
    "\n",
    "    df_summary = pd.DataFrame()\n",
    "    \n",
    "    for patient in dict.keys():\n",
    "        df_aux = pd.DataFrame()\n",
    "        for cara in caras:\n",
    "            if cara in dict[patient].keys():\n",
    "                serie = dict[patient][cara]\n",
    "                summary = get_serie_summary(serie, cara, period)\n",
    "                df_aux = pd.concat([df_aux, pd.DataFrame(summary, index=[0])], axis=1)\n",
    "        df_aux[\"patient\"] = patient\n",
    "        df_aux[\"cara\"] = cara\n",
    "        df_summary = pd.concat([df_summary, df_aux], axis=0)\n",
    "                \n",
    "    return df_summary.reset_index(drop=True)"
   ]
  },
  {
   "cell_type": "code",
   "execution_count": 54,
   "metadata": {},
   "outputs": [],
   "source": [
    "df_mi_peak_train = get_dict_serie_summary(df_mi_train, list_signals, 100)\n",
    "df_sttc_mi_peak_train = get_dict_serie_summary(df_sttc_mi_train, list_signals, 100)\n",
    "df_sttc_peak_train = get_dict_serie_summary(df_sttc_train, list_signals, 100)\n",
    "df_other_peak_train = get_dict_serie_summary(df_other_train, list_signals, 100)"
   ]
  },
  {
   "cell_type": "code",
   "execution_count": 25,
   "metadata": {},
   "outputs": [
    {
     "data": {
      "text/plain": [
       "85.4"
      ]
     },
     "execution_count": 25,
     "metadata": {},
     "output_type": "execute_result"
    }
   ],
   "source": [
    "df_mi_peak_train.to_csv(\"output/features/mi_peak_train.csv\", index = False)\n",
    "df_sttc_mi_peak_train.to_csv(\"output/features/sttc_mi_peak_train.csv\", index = False)\n",
    "df_sttc_peak_train.to_csv(\"output/features/sttc_peak_train.csv\", index = False)\n",
    "df_other_peak_train.to_csv(\"output/features/other_peak_train.csv\", index = False)"
   ]
  },
  {
   "cell_type": "markdown",
   "metadata": {},
   "source": [
    "### Cross Correlation features"
   ]
  }
 ],
 "metadata": {
  "kernelspec": {
   "display_name": "base_mcd",
   "language": "python",
   "name": "python3"
  },
  "language_info": {
   "codemirror_mode": {
    "name": "ipython",
    "version": 3
   },
   "file_extension": ".py",
   "mimetype": "text/x-python",
   "name": "python",
   "nbconvert_exporter": "python",
   "pygments_lexer": "ipython3",
   "version": "3.11.9"
  }
 },
 "nbformat": 4,
 "nbformat_minor": 2
}
